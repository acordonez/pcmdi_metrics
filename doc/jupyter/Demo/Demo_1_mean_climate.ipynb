{
 "cells": [
  {
   "cell_type": "markdown",
   "metadata": {},
   "source": [
    "# Mean Climate Driver\n",
    "\n",
    "This notebook introduces new users to the PCDMI mean climate driver.\n",
    "\n",
    "This notebook should be run in an environment with python, jupyterlab, pcmdi metrics package, and cdat installed. It is expected that you have downloaded the sample data as demonstrated in [the download notebook](Demo_0_download_data.ipynb).  \n",
    "\n",
    "The following cell reads in the choices you made during the download data step:"
   ]
  },
  {
   "cell_type": "code",
   "execution_count": 2,
   "metadata": {},
   "outputs": [
    {
     "name": "stdout",
     "output_type": "stream",
     "text": [
      "tmp_data_pmp_delete\n"
     ]
    }
   ],
   "source": [
    "from user_choices import demo_data_directory, demo_output_directory"
   ]
  },
  {
   "cell_type": "markdown",
   "metadata": {},
   "source": [
    "## Basic use"
   ]
  },
  {
   "cell_type": "markdown",
   "metadata": {},
   "source": [
    "The PCMDI Median Driver is driven via parameter files reflecting your study and environment. The parameter file for this demo is shown here:"
   ]
  },
  {
   "cell_type": "code",
   "execution_count": 3,
   "metadata": {
    "scrolled": true
   },
   "outputs": [
    {
     "name": "stdout",
     "output_type": "stream",
     "text": [
      "import os\n",
      "\n",
      "#\n",
      "#  OPTIONS ARE SET BY USER IN THIS FILE AS INDICATED BELOW BY:\n",
      "#\n",
      "#\n",
      "\n",
      "# RUN IDENTIFICATION\n",
      "# DEFINES A SUBDIRECTORY TO METRICS OUTPUT RESULTS SO MULTIPLE CASES CAN\n",
      "# BE COMPARED\n",
      "case_id = 'basicTest'\n",
      "\n",
      "# LIST OF MODEL VERSIONS TO BE TESTED - WHICH ARE EXPECTED TO BE PART OF\n",
      "# CLIMATOLOGY FILENAME\n",
      "test_data_set = ['ACCESS1-0', 'CSIRO-Mk3-6-0']\n",
      "\n",
      "\n",
      "# VARIABLES TO USE\n",
      "vars = ['rlut']\n",
      "\n",
      "\n",
      "# Observations to use at the moment \"default\" or \"alternate\"\n",
      "reference_data_set = ['all']\n",
      "#ext = '.nc'\n",
      "\n",
      "# INTERPOLATION OPTIONS\n",
      "target_grid = '2.5x2.5'  # OPTIONS: '2.5x2.5' or an actual cdms2 grid object\n",
      "regrid_tool = 'regrid2'  # 'regrid2' # OPTIONS: 'regrid2','esmf'\n",
      "# OPTIONS: 'linear','conservative', only if tool is esmf\n",
      "regrid_method = 'linear'\n",
      "regrid_tool_ocn = 'esmf'    # OPTIONS: \"regrid2\",\"esmf\"\n",
      "# OPTIONS: 'linear','conservative', only if tool is esmf\n",
      "regrid_method_ocn = 'linear'\n",
      "\n",
      "# Templates for climatology files\n",
      "# %(param) will subsitute param with values in this file\n",
      "filename_template = \"CMIP5.historical.%(model_version).r1i1p1.mon.%(variable).198101-200512.AC.v20190225.nc\"\n",
      "\n",
      "# filename template for landsea masks ('sftlf')\n",
      "sftlf_filename_template = \"sftlf_%(model_version).nc\"\n",
      "generate_sftlf = True # if land surface type mask cannot be found, generate one\n",
      "\n",
      "\n",
      "pth = os.path.dirname(__file__)\n",
      "# ROOT PATH FOR MODELS CLIMATOLOGIES\n",
      "test_data_path = 'demo_data/example_data/atm/mo/rlut/ac/'\n",
      "# ROOT PATH FOR OBSERVATIONS\n",
      "# Note that atm/mo/%(variable)/ac will be added to this\n",
      "reference_data_path = 'demo_data/pmpobs_v1.0'\n",
      "\n",
      "# DIRECTORY WHERE TO PUT RESULTS\n",
      "metrics_output_path = os.path.join(\n",
      "    'demo_output',\n",
      "    \"%(case_id)\")\n",
      "\n",
      "\n"
     ]
    }
   ],
   "source": [
    "with open(\"basic_param.py\") as f:\n",
    "    print(f.read())"
   ]
  },
  {
   "cell_type": "markdown",
   "metadata": {},
   "source": [
    "To run the mean climate driver, use the following command in the terminal. This will generate a metrics file based on the models, observations, and other criteria in `basic_param.py`\n",
    "```\n",
    "mean_climate_driver.py -p basic_param.py\n",
    "```  \n",
    "In the next cell, bash cell magic is used to run this command as a subprocess:"
   ]
  },
  {
   "cell_type": "code",
   "execution_count": 1,
   "metadata": {
    "scrolled": true
   },
   "outputs": [
    {
     "name": "stderr",
     "output_type": "stream",
     "text": [
      "CDMS system error: No such file or directory\n",
      "CDMS I/O error: Opening file /Users/ordonez4/Documents/git/pcmdi_metrics/doc/jupyter/Demo/demo_data/example_data/atm/mo/rlut/ac/sftlf_ACCESS1-0.nc\n",
      "CDMS system error: No such file or directory\n",
      "CDMS I/O error: Opening file /Users/ordonez4/Documents/git/pcmdi_metrics/doc/jupyter/Demo/demo_data/example_data/atm/mo/rlut/ac/sftlf_CSIRO-Mk3-6-0.nc\n",
      "INFO::2021-01-22 12:59::pcmdi_metrics::basicTest:: REGION: global\n",
      "INFO::2021-01-22 12:59::pcmdi_metrics::basicTest:: alternate1 is an obs\n",
      "INFO::2021-01-22 12:59::pcmdi_metrics::basicTest:: Could not figure out obs mask name from obs json file\n",
      "INFO::2021-01-22 12:59::pcmdi_metrics::basicTest:: TEST DATA IS: ACCESS1-0\n",
      "INFO::2021-01-22 12:59::pcmdi_metrics::basicTest:: ACCESS1-0 is a model\n",
      "INFO::2021-01-22 12:59::pcmdi_metrics::basicTest:: Saving results to: /Users/ordonez4/Documents/git/pcmdi_metrics/doc/jupyter/Demo/demo_output/basicTest/rlut_2.5x2.5_regrid2_linear_metrics\n",
      "INFO::2021-01-22 13:00::pcmdi_metrics::basicTest:: Results saved to a json file: /Users/ordonez4/Documents/git/pcmdi_metrics/doc/jupyter/Demo/demo_output/basicTest/rlut_2.5x2.5_regrid2_linear_metrics.json\n",
      "INFO::2021-01-22 13:00::pcmdi_metrics::basicTest:: TEST DATA IS: CSIRO-Mk3-6-0\n",
      "INFO::2021-01-22 13:00::pcmdi_metrics::basicTest:: CSIRO-Mk3-6-0 is a model\n",
      "INFO::2021-01-22 13:00::pcmdi_metrics::basicTest:: Saving results to: /Users/ordonez4/Documents/git/pcmdi_metrics/doc/jupyter/Demo/demo_output/basicTest/rlut_2.5x2.5_regrid2_linear_metrics\n",
      "INFO::2021-01-22 13:00::pcmdi_metrics::basicTest:: Results saved to a json file: /Users/ordonez4/Documents/git/pcmdi_metrics/doc/jupyter/Demo/demo_output/basicTest/rlut_2.5x2.5_regrid2_linear_metrics.json\n",
      "INFO::2021-01-22 13:00::pcmdi_metrics::basicTest:: default is an obs\n",
      "INFO::2021-01-22 13:00::pcmdi_metrics::basicTest:: Could not figure out obs mask name from obs json file\n",
      "INFO::2021-01-22 13:00::pcmdi_metrics::basicTest:: TEST DATA IS: ACCESS1-0\n",
      "INFO::2021-01-22 13:00::pcmdi_metrics::basicTest:: ACCESS1-0 is a model\n",
      "INFO::2021-01-22 13:00::pcmdi_metrics::basicTest:: Saving results to: /Users/ordonez4/Documents/git/pcmdi_metrics/doc/jupyter/Demo/demo_output/basicTest/rlut_2.5x2.5_regrid2_linear_metrics\n",
      "INFO::2021-01-22 13:00::pcmdi_metrics::basicTest:: Results saved to a json file: /Users/ordonez4/Documents/git/pcmdi_metrics/doc/jupyter/Demo/demo_output/basicTest/rlut_2.5x2.5_regrid2_linear_metrics.json\n",
      "INFO::2021-01-22 13:00::pcmdi_metrics::basicTest:: TEST DATA IS: CSIRO-Mk3-6-0\n",
      "INFO::2021-01-22 13:00::pcmdi_metrics::basicTest:: CSIRO-Mk3-6-0 is a model\n",
      "INFO::2021-01-22 13:00::pcmdi_metrics::basicTest:: Saving results to: /Users/ordonez4/Documents/git/pcmdi_metrics/doc/jupyter/Demo/demo_output/basicTest/rlut_2.5x2.5_regrid2_linear_metrics\n",
      "INFO::2021-01-22 13:00::pcmdi_metrics::basicTest:: Results saved to a json file: /Users/ordonez4/Documents/git/pcmdi_metrics/doc/jupyter/Demo/demo_output/basicTest/rlut_2.5x2.5_regrid2_linear_metrics.json\n",
      "INFO::2021-01-22 13:00::pcmdi_metrics::basicTest:: REGION: NHEX\n",
      "INFO::2021-01-22 13:00::pcmdi_metrics::basicTest:: alternate1 is an obs\n",
      "INFO::2021-01-22 13:00::pcmdi_metrics::basicTest:: Could not figure out obs mask name from obs json file\n",
      "INFO::2021-01-22 13:00::pcmdi_metrics::basicTest:: TEST DATA IS: ACCESS1-0\n",
      "INFO::2021-01-22 13:00::pcmdi_metrics::basicTest:: ACCESS1-0 is a model\n",
      "INFO::2021-01-22 13:00::pcmdi_metrics::basicTest:: Saving results to: /Users/ordonez4/Documents/git/pcmdi_metrics/doc/jupyter/Demo/demo_output/basicTest/rlut_2.5x2.5_regrid2_linear_metrics\n",
      "INFO::2021-01-22 13:00::pcmdi_metrics::basicTest:: Results saved to a json file: /Users/ordonez4/Documents/git/pcmdi_metrics/doc/jupyter/Demo/demo_output/basicTest/rlut_2.5x2.5_regrid2_linear_metrics.json\n",
      "INFO::2021-01-22 13:00::pcmdi_metrics::basicTest:: TEST DATA IS: CSIRO-Mk3-6-0\n",
      "INFO::2021-01-22 13:00::pcmdi_metrics::basicTest:: CSIRO-Mk3-6-0 is a model\n",
      "INFO::2021-01-22 13:00::pcmdi_metrics::basicTest:: Saving results to: /Users/ordonez4/Documents/git/pcmdi_metrics/doc/jupyter/Demo/demo_output/basicTest/rlut_2.5x2.5_regrid2_linear_metrics\n",
      "INFO::2021-01-22 13:00::pcmdi_metrics::basicTest:: Results saved to a json file: /Users/ordonez4/Documents/git/pcmdi_metrics/doc/jupyter/Demo/demo_output/basicTest/rlut_2.5x2.5_regrid2_linear_metrics.json\n",
      "INFO::2021-01-22 13:00::pcmdi_metrics::basicTest:: default is an obs\n",
      "INFO::2021-01-22 13:00::pcmdi_metrics::basicTest:: Could not figure out obs mask name from obs json file\n",
      "INFO::2021-01-22 13:00::pcmdi_metrics::basicTest:: TEST DATA IS: ACCESS1-0\n",
      "INFO::2021-01-22 13:00::pcmdi_metrics::basicTest:: ACCESS1-0 is a model\n",
      "INFO::2021-01-22 13:00::pcmdi_metrics::basicTest:: Saving results to: /Users/ordonez4/Documents/git/pcmdi_metrics/doc/jupyter/Demo/demo_output/basicTest/rlut_2.5x2.5_regrid2_linear_metrics\n",
      "INFO::2021-01-22 13:00::pcmdi_metrics::basicTest:: Results saved to a json file: /Users/ordonez4/Documents/git/pcmdi_metrics/doc/jupyter/Demo/demo_output/basicTest/rlut_2.5x2.5_regrid2_linear_metrics.json\n",
      "INFO::2021-01-22 13:00::pcmdi_metrics::basicTest:: TEST DATA IS: CSIRO-Mk3-6-0\n",
      "INFO::2021-01-22 13:00::pcmdi_metrics::basicTest:: CSIRO-Mk3-6-0 is a model\n",
      "INFO::2021-01-22 13:00::pcmdi_metrics::basicTest:: Saving results to: /Users/ordonez4/Documents/git/pcmdi_metrics/doc/jupyter/Demo/demo_output/basicTest/rlut_2.5x2.5_regrid2_linear_metrics\n",
      "INFO::2021-01-22 13:00::pcmdi_metrics::basicTest:: Results saved to a json file: /Users/ordonez4/Documents/git/pcmdi_metrics/doc/jupyter/Demo/demo_output/basicTest/rlut_2.5x2.5_regrid2_linear_metrics.json\n",
      "INFO::2021-01-22 13:00::pcmdi_metrics::basicTest:: REGION: SHEX\n",
      "INFO::2021-01-22 13:00::pcmdi_metrics::basicTest:: alternate1 is an obs\n",
      "INFO::2021-01-22 13:00::pcmdi_metrics::basicTest:: Could not figure out obs mask name from obs json file\n",
      "INFO::2021-01-22 13:00::pcmdi_metrics::basicTest:: TEST DATA IS: ACCESS1-0\n",
      "INFO::2021-01-22 13:00::pcmdi_metrics::basicTest:: ACCESS1-0 is a model\n",
      "INFO::2021-01-22 13:00::pcmdi_metrics::basicTest:: Saving results to: /Users/ordonez4/Documents/git/pcmdi_metrics/doc/jupyter/Demo/demo_output/basicTest/rlut_2.5x2.5_regrid2_linear_metrics\n",
      "INFO::2021-01-22 13:00::pcmdi_metrics::basicTest:: Results saved to a json file: /Users/ordonez4/Documents/git/pcmdi_metrics/doc/jupyter/Demo/demo_output/basicTest/rlut_2.5x2.5_regrid2_linear_metrics.json\n",
      "INFO::2021-01-22 13:00::pcmdi_metrics::basicTest:: TEST DATA IS: CSIRO-Mk3-6-0\n",
      "INFO::2021-01-22 13:00::pcmdi_metrics::basicTest:: CSIRO-Mk3-6-0 is a model\n",
      "INFO::2021-01-22 13:00::pcmdi_metrics::basicTest:: Saving results to: /Users/ordonez4/Documents/git/pcmdi_metrics/doc/jupyter/Demo/demo_output/basicTest/rlut_2.5x2.5_regrid2_linear_metrics\n",
      "INFO::2021-01-22 13:00::pcmdi_metrics::basicTest:: Results saved to a json file: /Users/ordonez4/Documents/git/pcmdi_metrics/doc/jupyter/Demo/demo_output/basicTest/rlut_2.5x2.5_regrid2_linear_metrics.json\n",
      "INFO::2021-01-22 13:00::pcmdi_metrics::basicTest:: default is an obs\n",
      "INFO::2021-01-22 13:00::pcmdi_metrics::basicTest:: Could not figure out obs mask name from obs json file\n",
      "INFO::2021-01-22 13:00::pcmdi_metrics::basicTest:: TEST DATA IS: ACCESS1-0\n",
      "INFO::2021-01-22 13:00::pcmdi_metrics::basicTest:: ACCESS1-0 is a model\n",
      "INFO::2021-01-22 13:00::pcmdi_metrics::basicTest:: Saving results to: /Users/ordonez4/Documents/git/pcmdi_metrics/doc/jupyter/Demo/demo_output/basicTest/rlut_2.5x2.5_regrid2_linear_metrics\n",
      "INFO::2021-01-22 13:00::pcmdi_metrics::basicTest:: Results saved to a json file: /Users/ordonez4/Documents/git/pcmdi_metrics/doc/jupyter/Demo/demo_output/basicTest/rlut_2.5x2.5_regrid2_linear_metrics.json\n",
      "INFO::2021-01-22 13:00::pcmdi_metrics::basicTest:: TEST DATA IS: CSIRO-Mk3-6-0\n",
      "INFO::2021-01-22 13:00::pcmdi_metrics::basicTest:: CSIRO-Mk3-6-0 is a model\n",
      "INFO::2021-01-22 13:00::pcmdi_metrics::basicTest:: Saving results to: /Users/ordonez4/Documents/git/pcmdi_metrics/doc/jupyter/Demo/demo_output/basicTest/rlut_2.5x2.5_regrid2_linear_metrics\n",
      "INFO::2021-01-22 13:00::pcmdi_metrics::basicTest:: Results saved to a json file: /Users/ordonez4/Documents/git/pcmdi_metrics/doc/jupyter/Demo/demo_output/basicTest/rlut_2.5x2.5_regrid2_linear_metrics.json\n",
      "INFO::2021-01-22 13:00::pcmdi_metrics::basicTest:: REGION: TROPICS\n",
      "INFO::2021-01-22 13:00::pcmdi_metrics::basicTest:: alternate1 is an obs\n",
      "INFO::2021-01-22 13:00::pcmdi_metrics::basicTest:: Could not figure out obs mask name from obs json file\n",
      "INFO::2021-01-22 13:00::pcmdi_metrics::basicTest:: TEST DATA IS: ACCESS1-0\n",
      "INFO::2021-01-22 13:00::pcmdi_metrics::basicTest:: ACCESS1-0 is a model\n",
      "INFO::2021-01-22 13:00::pcmdi_metrics::basicTest:: Saving results to: /Users/ordonez4/Documents/git/pcmdi_metrics/doc/jupyter/Demo/demo_output/basicTest/rlut_2.5x2.5_regrid2_linear_metrics\n",
      "INFO::2021-01-22 13:00::pcmdi_metrics::basicTest:: Results saved to a json file: /Users/ordonez4/Documents/git/pcmdi_metrics/doc/jupyter/Demo/demo_output/basicTest/rlut_2.5x2.5_regrid2_linear_metrics.json\n",
      "INFO::2021-01-22 13:00::pcmdi_metrics::basicTest:: TEST DATA IS: CSIRO-Mk3-6-0\n",
      "INFO::2021-01-22 13:00::pcmdi_metrics::basicTest:: CSIRO-Mk3-6-0 is a model\n",
      "INFO::2021-01-22 13:00::pcmdi_metrics::basicTest:: Saving results to: /Users/ordonez4/Documents/git/pcmdi_metrics/doc/jupyter/Demo/demo_output/basicTest/rlut_2.5x2.5_regrid2_linear_metrics\n",
      "INFO::2021-01-22 13:00::pcmdi_metrics::basicTest:: Results saved to a json file: /Users/ordonez4/Documents/git/pcmdi_metrics/doc/jupyter/Demo/demo_output/basicTest/rlut_2.5x2.5_regrid2_linear_metrics.json\n",
      "INFO::2021-01-22 13:00::pcmdi_metrics::basicTest:: default is an obs\n",
      "INFO::2021-01-22 13:00::pcmdi_metrics::basicTest:: Could not figure out obs mask name from obs json file\n",
      "INFO::2021-01-22 13:00::pcmdi_metrics::basicTest:: TEST DATA IS: ACCESS1-0\n",
      "INFO::2021-01-22 13:00::pcmdi_metrics::basicTest:: ACCESS1-0 is a model\n",
      "INFO::2021-01-22 13:00::pcmdi_metrics::basicTest:: Saving results to: /Users/ordonez4/Documents/git/pcmdi_metrics/doc/jupyter/Demo/demo_output/basicTest/rlut_2.5x2.5_regrid2_linear_metrics\n",
      "INFO::2021-01-22 13:00::pcmdi_metrics::basicTest:: Results saved to a json file: /Users/ordonez4/Documents/git/pcmdi_metrics/doc/jupyter/Demo/demo_output/basicTest/rlut_2.5x2.5_regrid2_linear_metrics.json\n",
      "INFO::2021-01-22 13:00::pcmdi_metrics::basicTest:: TEST DATA IS: CSIRO-Mk3-6-0\n",
      "INFO::2021-01-22 13:00::pcmdi_metrics::basicTest:: CSIRO-Mk3-6-0 is a model\n",
      "INFO::2021-01-22 13:00::pcmdi_metrics::basicTest:: Saving results to: /Users/ordonez4/Documents/git/pcmdi_metrics/doc/jupyter/Demo/demo_output/basicTest/rlut_2.5x2.5_regrid2_linear_metrics\n",
      "INFO::2021-01-22 13:00::pcmdi_metrics::basicTest:: Results saved to a json file: /Users/ordonez4/Documents/git/pcmdi_metrics/doc/jupyter/Demo/demo_output/basicTest/rlut_2.5x2.5_regrid2_linear_metrics.json\n"
     ]
    }
   ],
   "source": [
    "%%bash\n",
    "mean_climate_driver.py  -p basic_param.py"
   ]
  },
  {
   "cell_type": "markdown",
   "metadata": {},
   "source": [
    "Running the mean climate driver produces an output json file in the demo output directory. Open this file to view the metrics:"
   ]
  },
  {
   "cell_type": "code",
   "execution_count": 2,
   "metadata": {},
   "outputs": [
    {
     "ename": "NameError",
     "evalue": "name 'demo_output_directory' is not defined",
     "output_type": "error",
     "traceback": [
      "\u001b[0;31m---------------------------------------------------------------------------\u001b[0m",
      "\u001b[0;31mNameError\u001b[0m                                 Traceback (most recent call last)",
      "\u001b[0;32m<ipython-input-2-53f35fd17985>\u001b[0m in \u001b[0;36m<module>\u001b[0;34m\u001b[0m\n\u001b[1;32m      1\u001b[0m \u001b[0;32mimport\u001b[0m \u001b[0mos\u001b[0m\u001b[0;34m\u001b[0m\u001b[0;34m\u001b[0m\u001b[0m\n\u001b[0;32m----> 2\u001b[0;31m \u001b[0moutput_path\u001b[0m \u001b[0;34m=\u001b[0m \u001b[0mos\u001b[0m\u001b[0;34m.\u001b[0m\u001b[0mpath\u001b[0m\u001b[0;34m.\u001b[0m\u001b[0mjoin\u001b[0m\u001b[0;34m(\u001b[0m\u001b[0mdemo_output_directory\u001b[0m\u001b[0;34m,\u001b[0m\u001b[0;34m\"basicTest/rlut_2.5x2.5_regrid2_linear_metrics.json\"\u001b[0m\u001b[0;34m)\u001b[0m\u001b[0;34m\u001b[0m\u001b[0;34m\u001b[0m\u001b[0m\n\u001b[0m\u001b[1;32m      3\u001b[0m \u001b[0;32mwith\u001b[0m \u001b[0mopen\u001b[0m\u001b[0;34m(\u001b[0m\u001b[0moutput_path\u001b[0m\u001b[0;34m)\u001b[0m \u001b[0;32mas\u001b[0m \u001b[0mf\u001b[0m\u001b[0;34m:\u001b[0m\u001b[0;34m\u001b[0m\u001b[0;34m\u001b[0m\u001b[0m\n\u001b[1;32m      4\u001b[0m     \u001b[0mprint\u001b[0m\u001b[0;34m(\u001b[0m\u001b[0;34m\"JSON OUTPUT:\\n{}\"\u001b[0m\u001b[0;34m.\u001b[0m\u001b[0mformat\u001b[0m\u001b[0;34m(\u001b[0m\u001b[0mf\u001b[0m\u001b[0;34m.\u001b[0m\u001b[0mread\u001b[0m\u001b[0;34m(\u001b[0m\u001b[0;34m)\u001b[0m\u001b[0;34m)\u001b[0m\u001b[0;34m)\u001b[0m\u001b[0;34m\u001b[0m\u001b[0;34m\u001b[0m\u001b[0m\n",
      "\u001b[0;31mNameError\u001b[0m: name 'demo_output_directory' is not defined"
     ]
    }
   ],
   "source": [
    "import os\n",
    "output_path = os.path.join(demo_output_directory,\"basicTest/rlut_2.5x2.5_regrid2_linear_metrics.json\")\n",
    "with open(output_path) as f:\n",
    "    print(\"JSON OUTPUT:\\n{}\".format(f.read()))"
   ]
  },
  {
   "cell_type": "markdown",
   "metadata": {},
   "source": [
    "## Annual Cycle / Climatologies"
   ]
  },
  {
   "cell_type": "markdown",
   "metadata": {},
   "source": [
    "Model output and observations must be converted into annual climatologies for use with the mean climate driver. This has already been done for the sample data. PMP provides a script for generating these input climatologies from other data. For more information about using the script, see [the documentation](https://github.com/PCMDI/pcmdi_metrics/tree/master/sample_setups/pcmdi_parameter_files/mean_climate/make_clims). The basic use is shown here with an example in the following cell:   \n",
    "```\n",
    "python pcmdi_compute_climatologies.py -p clim_calc_cmip_inparam.py <--options>\n",
    "```"
   ]
  },
  {
   "cell_type": "code",
   "execution_count": 35,
   "metadata": {
    "scrolled": true
   },
   "outputs": [
    {
     "name": "stdout",
     "output_type": "stream",
     "text": [
      "start and end are  2003-01   2018-12\n",
      "var is  rlut\n",
      "infilename is  rlut_mon_CERES-EBAF-4-1_BE_gn_v20200707_200301-201812.nc\n",
      "outfd is  ./demo_output/climo/rlut_mon_CERES-EBAF-4-1_BE_200301-201812.AC.nc\n",
      "outdir is  None\n",
      "start_yr_str is  2003\n",
      "outfd is  ./demo_output/climo/rlut_mon_CERES-EBAF-4-1_BE_200301-201812.AC.nc\n",
      "out is  ./demo_output/climo/rlut_mon_CERES-EBAF-4-1_BE_200301-201812.AC.200301-201812.AC.v20210122.nc\n"
     ]
    },
    {
     "name": "stderr",
     "output_type": "stream",
     "text": [
      "Traceback (most recent call last):\n",
      "  File \"../../../pcmdi_metrics/pcmdi/scripts/pcmdi_compute_climatologies.py\", line 121, in clim_calc\n",
      "    os.mkdir(d)\n",
      "FileExistsError: [Errno 17] File exists: '.'\n",
      "\n",
      "During handling of the above exception, another exception occurred:\n",
      "\n",
      "Traceback (most recent call last):\n",
      "  File \"../../../pcmdi_metrics/pcmdi/scripts/pcmdi_compute_climatologies.py\", line 194, in <module>\n",
      "    clim_calc(var, infile, outfile, outpath, outfilename, start, end)\n",
      "  File \"../../../pcmdi_metrics/pcmdi/scripts/pcmdi_compute_climatologies.py\", line 123, in clim_calc\n",
      "    if exc.errno == errno.EEXIST and os.path.isdir(path):\n",
      "NameError: name 'errno' is not defined\n"
     ]
    },
    {
     "ename": "CalledProcessError",
     "evalue": "Command 'b\"# demo file not found\\npython ../../../pcmdi_metrics/pcmdi/scripts/pcmdi_compute_climatologies.py \\\\\\n--var 'rlut' \\\\\\n--start 2003-01 --end 2018-12 \\\\\\n--outfile './demo_output/climo/rlut_mon_CERES-EBAF-4-1_BE_200301-201812.AC.nc' \\\\\\n--infile './demo_data/PCMDIobs2/atmos/mon/rlut/CERES-EBAF-4-1/gn/v20200707/rlut_mon_CERES-EBAF-4-1_BE_gn_v20200707_200301-201812.nc'\\n\"' returned non-zero exit status 1.",
     "output_type": "error",
     "traceback": [
      "\u001b[0;31m---------------------------------------------------------------------------\u001b[0m",
      "\u001b[0;31mCalledProcessError\u001b[0m                        Traceback (most recent call last)",
      "\u001b[0;32m<ipython-input-35-4b022b0ce4b1>\u001b[0m in \u001b[0;36m<module>\u001b[0;34m\u001b[0m\n\u001b[0;32m----> 1\u001b[0;31m \u001b[0mget_ipython\u001b[0m\u001b[0;34m(\u001b[0m\u001b[0;34m)\u001b[0m\u001b[0;34m.\u001b[0m\u001b[0mrun_cell_magic\u001b[0m\u001b[0;34m(\u001b[0m\u001b[0;34m'bash'\u001b[0m\u001b[0;34m,\u001b[0m \u001b[0;34m''\u001b[0m\u001b[0;34m,\u001b[0m \u001b[0;34m\"# demo file not found\\npython ../../../pcmdi_metrics/pcmdi/scripts/pcmdi_compute_climatologies.py \\\\\\n--var 'rlut' \\\\\\n--start 2003-01 --end 2018-12 \\\\\\n--outfile './demo_output/climo/rlut_mon_CERES-EBAF-4-1_BE_200301-201812.AC.nc' \\\\\\n--infile './demo_data/PCMDIobs2/atmos/mon/rlut/CERES-EBAF-4-1/gn/v20200707/rlut_mon_CERES-EBAF-4-1_BE_gn_v20200707_200301-201812.nc'\\n\"\u001b[0m\u001b[0;34m)\u001b[0m\u001b[0;34m\u001b[0m\u001b[0;34m\u001b[0m\u001b[0m\n\u001b[0m",
      "\u001b[0;32m~/miniconda3/envs/pcmdi/lib/python3.8/site-packages/IPython/core/interactiveshell.py\u001b[0m in \u001b[0;36mrun_cell_magic\u001b[0;34m(self, magic_name, line, cell)\u001b[0m\n\u001b[1;32m   2380\u001b[0m             \u001b[0;32mwith\u001b[0m \u001b[0mself\u001b[0m\u001b[0;34m.\u001b[0m\u001b[0mbuiltin_trap\u001b[0m\u001b[0;34m:\u001b[0m\u001b[0;34m\u001b[0m\u001b[0;34m\u001b[0m\u001b[0m\n\u001b[1;32m   2381\u001b[0m                 \u001b[0margs\u001b[0m \u001b[0;34m=\u001b[0m \u001b[0;34m(\u001b[0m\u001b[0mmagic_arg_s\u001b[0m\u001b[0;34m,\u001b[0m \u001b[0mcell\u001b[0m\u001b[0;34m)\u001b[0m\u001b[0;34m\u001b[0m\u001b[0;34m\u001b[0m\u001b[0m\n\u001b[0;32m-> 2382\u001b[0;31m                 \u001b[0mresult\u001b[0m \u001b[0;34m=\u001b[0m \u001b[0mfn\u001b[0m\u001b[0;34m(\u001b[0m\u001b[0;34m*\u001b[0m\u001b[0margs\u001b[0m\u001b[0;34m,\u001b[0m \u001b[0;34m**\u001b[0m\u001b[0mkwargs\u001b[0m\u001b[0;34m)\u001b[0m\u001b[0;34m\u001b[0m\u001b[0;34m\u001b[0m\u001b[0m\n\u001b[0m\u001b[1;32m   2383\u001b[0m             \u001b[0;32mreturn\u001b[0m \u001b[0mresult\u001b[0m\u001b[0;34m\u001b[0m\u001b[0;34m\u001b[0m\u001b[0m\n\u001b[1;32m   2384\u001b[0m \u001b[0;34m\u001b[0m\u001b[0m\n",
      "\u001b[0;32m~/miniconda3/envs/pcmdi/lib/python3.8/site-packages/IPython/core/magics/script.py\u001b[0m in \u001b[0;36mnamed_script_magic\u001b[0;34m(line, cell)\u001b[0m\n\u001b[1;32m    140\u001b[0m             \u001b[0;32melse\u001b[0m\u001b[0;34m:\u001b[0m\u001b[0;34m\u001b[0m\u001b[0;34m\u001b[0m\u001b[0m\n\u001b[1;32m    141\u001b[0m                 \u001b[0mline\u001b[0m \u001b[0;34m=\u001b[0m \u001b[0mscript\u001b[0m\u001b[0;34m\u001b[0m\u001b[0;34m\u001b[0m\u001b[0m\n\u001b[0;32m--> 142\u001b[0;31m             \u001b[0;32mreturn\u001b[0m \u001b[0mself\u001b[0m\u001b[0;34m.\u001b[0m\u001b[0mshebang\u001b[0m\u001b[0;34m(\u001b[0m\u001b[0mline\u001b[0m\u001b[0;34m,\u001b[0m \u001b[0mcell\u001b[0m\u001b[0;34m)\u001b[0m\u001b[0;34m\u001b[0m\u001b[0;34m\u001b[0m\u001b[0m\n\u001b[0m\u001b[1;32m    143\u001b[0m \u001b[0;34m\u001b[0m\u001b[0m\n\u001b[1;32m    144\u001b[0m         \u001b[0;31m# write a basic docstring:\u001b[0m\u001b[0;34m\u001b[0m\u001b[0;34m\u001b[0m\u001b[0;34m\u001b[0m\u001b[0m\n",
      "\u001b[0;32m<decorator-gen-103>\u001b[0m in \u001b[0;36mshebang\u001b[0;34m(self, line, cell)\u001b[0m\n",
      "\u001b[0;32m~/miniconda3/envs/pcmdi/lib/python3.8/site-packages/IPython/core/magic.py\u001b[0m in \u001b[0;36m<lambda>\u001b[0;34m(f, *a, **k)\u001b[0m\n\u001b[1;32m    185\u001b[0m     \u001b[0;31m# but it's overkill for just that one bit of state.\u001b[0m\u001b[0;34m\u001b[0m\u001b[0;34m\u001b[0m\u001b[0;34m\u001b[0m\u001b[0m\n\u001b[1;32m    186\u001b[0m     \u001b[0;32mdef\u001b[0m \u001b[0mmagic_deco\u001b[0m\u001b[0;34m(\u001b[0m\u001b[0marg\u001b[0m\u001b[0;34m)\u001b[0m\u001b[0;34m:\u001b[0m\u001b[0;34m\u001b[0m\u001b[0;34m\u001b[0m\u001b[0m\n\u001b[0;32m--> 187\u001b[0;31m         \u001b[0mcall\u001b[0m \u001b[0;34m=\u001b[0m \u001b[0;32mlambda\u001b[0m \u001b[0mf\u001b[0m\u001b[0;34m,\u001b[0m \u001b[0;34m*\u001b[0m\u001b[0ma\u001b[0m\u001b[0;34m,\u001b[0m \u001b[0;34m**\u001b[0m\u001b[0mk\u001b[0m\u001b[0;34m:\u001b[0m \u001b[0mf\u001b[0m\u001b[0;34m(\u001b[0m\u001b[0;34m*\u001b[0m\u001b[0ma\u001b[0m\u001b[0;34m,\u001b[0m \u001b[0;34m**\u001b[0m\u001b[0mk\u001b[0m\u001b[0;34m)\u001b[0m\u001b[0;34m\u001b[0m\u001b[0;34m\u001b[0m\u001b[0m\n\u001b[0m\u001b[1;32m    188\u001b[0m \u001b[0;34m\u001b[0m\u001b[0m\n\u001b[1;32m    189\u001b[0m         \u001b[0;32mif\u001b[0m \u001b[0mcallable\u001b[0m\u001b[0;34m(\u001b[0m\u001b[0marg\u001b[0m\u001b[0;34m)\u001b[0m\u001b[0;34m:\u001b[0m\u001b[0;34m\u001b[0m\u001b[0;34m\u001b[0m\u001b[0m\n",
      "\u001b[0;32m~/miniconda3/envs/pcmdi/lib/python3.8/site-packages/IPython/core/magics/script.py\u001b[0m in \u001b[0;36mshebang\u001b[0;34m(self, line, cell)\u001b[0m\n\u001b[1;32m    243\u001b[0m             \u001b[0msys\u001b[0m\u001b[0;34m.\u001b[0m\u001b[0mstderr\u001b[0m\u001b[0;34m.\u001b[0m\u001b[0mflush\u001b[0m\u001b[0;34m(\u001b[0m\u001b[0;34m)\u001b[0m\u001b[0;34m\u001b[0m\u001b[0;34m\u001b[0m\u001b[0m\n\u001b[1;32m    244\u001b[0m         \u001b[0;32mif\u001b[0m \u001b[0margs\u001b[0m\u001b[0;34m.\u001b[0m\u001b[0mraise_error\u001b[0m \u001b[0;32mand\u001b[0m \u001b[0mp\u001b[0m\u001b[0;34m.\u001b[0m\u001b[0mreturncode\u001b[0m\u001b[0;34m!=\u001b[0m\u001b[0;36m0\u001b[0m\u001b[0;34m:\u001b[0m\u001b[0;34m\u001b[0m\u001b[0;34m\u001b[0m\u001b[0m\n\u001b[0;32m--> 245\u001b[0;31m             \u001b[0;32mraise\u001b[0m \u001b[0mCalledProcessError\u001b[0m\u001b[0;34m(\u001b[0m\u001b[0mp\u001b[0m\u001b[0;34m.\u001b[0m\u001b[0mreturncode\u001b[0m\u001b[0;34m,\u001b[0m \u001b[0mcell\u001b[0m\u001b[0;34m,\u001b[0m \u001b[0moutput\u001b[0m\u001b[0;34m=\u001b[0m\u001b[0mout\u001b[0m\u001b[0;34m,\u001b[0m \u001b[0mstderr\u001b[0m\u001b[0;34m=\u001b[0m\u001b[0merr\u001b[0m\u001b[0;34m)\u001b[0m\u001b[0;34m\u001b[0m\u001b[0;34m\u001b[0m\u001b[0m\n\u001b[0m\u001b[1;32m    246\u001b[0m \u001b[0;34m\u001b[0m\u001b[0m\n\u001b[1;32m    247\u001b[0m     \u001b[0;32mdef\u001b[0m \u001b[0m_run_script\u001b[0m\u001b[0;34m(\u001b[0m\u001b[0mself\u001b[0m\u001b[0;34m,\u001b[0m \u001b[0mp\u001b[0m\u001b[0;34m,\u001b[0m \u001b[0mcell\u001b[0m\u001b[0;34m,\u001b[0m \u001b[0mto_close\u001b[0m\u001b[0;34m)\u001b[0m\u001b[0;34m:\u001b[0m\u001b[0;34m\u001b[0m\u001b[0;34m\u001b[0m\u001b[0m\n",
      "\u001b[0;31mCalledProcessError\u001b[0m: Command 'b\"# demo file not found\\npython ../../../pcmdi_metrics/pcmdi/scripts/pcmdi_compute_climatologies.py \\\\\\n--var 'rlut' \\\\\\n--start 2003-01 --end 2018-12 \\\\\\n--outfile './demo_output/climo/rlut_mon_CERES-EBAF-4-1_BE_200301-201812.AC.nc' \\\\\\n--infile './demo_data/PCMDIobs2/atmos/mon/rlut/CERES-EBAF-4-1/gn/v20200707/rlut_mon_CERES-EBAF-4-1_BE_gn_v20200707_200301-201812.nc'\\n\"' returned non-zero exit status 1."
     ]
    }
   ],
   "source": [
    "%%bash\n",
    "# demo file not found\n",
    "python ../../../pcmdi_metrics/pcmdi/scripts/pcmdi_compute_climatologies.py \\\n",
    "--var 'rlut' \\\n",
    "--start 2003-01 --end 2018-12 \\\n",
    "--outfile './demo_output/climo/rlut_mon_CERES-EBAF-4-1_BE_200301-201812.AC.nc' \\\n",
    "--infile './demo_data/PCMDIobs2/atmos/mon/rlut/CERES-EBAF-4-1/gn/v20200707/rlut_mon_CERES-EBAF-4-1_BE_gn_v20200707_200301-201812.nc'"
   ]
  },
  {
   "cell_type": "markdown",
   "metadata": {},
   "source": [
    "## Customizing parameters in the mean climate driver"
   ]
  },
  {
   "cell_type": "markdown",
   "metadata": {},
   "source": [
    "It is possible to override the parameter file from the command line. Use `mean_climate_driver.py --help` to see all the flag options.  \n",
    "  \n",
    "This next cell demonstrates how to change 'case_id' and 'regrid_tool' on the command line. Changing the 'case_id' is helpful because these results will be stored in a folder with that name, separate from other runs.  \n",
    "\n",
    "The two regrid tools available are 'regrid2' and 'esmf'. 'regrid2' is recommended, but 'esmf' must be used with non-rectangular grids.  \n",
    "  \n",
    "Both the model data sets and observations are regridded to a 2.5 by 2.5 degree grid before producing statistics. To interpolate to a different grid, the user should provide a [cdms2 grid object](https://cdms.readthedocs.io/en/latest/manual/cdms_2.html#id9) as the `target_grid`."
   ]
  },
  {
   "cell_type": "code",
   "execution_count": 19,
   "metadata": {
    "scrolled": true
   },
   "outputs": [
    {
     "name": "stderr",
     "output_type": "stream",
     "text": [
      "CDMS system error: No such file or directory\n",
      "CDMS I/O error: Opening file /Users/ordonez4/Documents/git/pcmdi_metrics/doc/jupyter/Demo/demo_data/example_data/atm/mo/rlut/ac/sftlf_ACCESS1-0.nc\n",
      "CDMS system error: No such file or directory\n",
      "CDMS I/O error: Opening file /Users/ordonez4/Documents/git/pcmdi_metrics/doc/jupyter/Demo/demo_data/example_data/atm/mo/rlut/ac/sftlf_CSIRO-Mk3-6-0.nc\n",
      "INFO::2021-01-22 13:16::pcmdi_metrics::Ex2:: REGION: global\n",
      "INFO::2021-01-22 13:16::pcmdi_metrics::Ex2:: alternate1 is an obs\n",
      "INFO::2021-01-22 13:16::pcmdi_metrics::Ex2:: Could not figure out obs mask name from obs json file\n",
      "INFO::2021-01-22 13:16::pcmdi_metrics::Ex2:: TEST DATA IS: ACCESS1-0\n",
      "INFO::2021-01-22 13:16::pcmdi_metrics::Ex2:: ACCESS1-0 is a model\n",
      "INFO::2021-01-22 13:16::pcmdi_metrics::Ex2:: Saving results to: /Users/ordonez4/Documents/git/pcmdi_metrics/doc/jupyter/Demo/demo_output/Ex2/rlut_2.5x2.5_esmf_linear_metrics\n",
      "INFO::2021-01-22 13:16::pcmdi_metrics::Ex2:: Results saved to a json file: /Users/ordonez4/Documents/git/pcmdi_metrics/doc/jupyter/Demo/demo_output/Ex2/rlut_2.5x2.5_esmf_linear_metrics.json\n",
      "INFO::2021-01-22 13:16::pcmdi_metrics::Ex2:: TEST DATA IS: CSIRO-Mk3-6-0\n",
      "INFO::2021-01-22 13:16::pcmdi_metrics::Ex2:: CSIRO-Mk3-6-0 is a model\n",
      "INFO::2021-01-22 13:16::pcmdi_metrics::Ex2:: Saving results to: /Users/ordonez4/Documents/git/pcmdi_metrics/doc/jupyter/Demo/demo_output/Ex2/rlut_2.5x2.5_esmf_linear_metrics\n",
      "INFO::2021-01-22 13:16::pcmdi_metrics::Ex2:: Results saved to a json file: /Users/ordonez4/Documents/git/pcmdi_metrics/doc/jupyter/Demo/demo_output/Ex2/rlut_2.5x2.5_esmf_linear_metrics.json\n",
      "INFO::2021-01-22 13:16::pcmdi_metrics::Ex2:: default is an obs\n",
      "INFO::2021-01-22 13:16::pcmdi_metrics::Ex2:: Could not figure out obs mask name from obs json file\n",
      "INFO::2021-01-22 13:16::pcmdi_metrics::Ex2:: TEST DATA IS: ACCESS1-0\n",
      "INFO::2021-01-22 13:16::pcmdi_metrics::Ex2:: ACCESS1-0 is a model\n",
      "INFO::2021-01-22 13:16::pcmdi_metrics::Ex2:: Saving results to: /Users/ordonez4/Documents/git/pcmdi_metrics/doc/jupyter/Demo/demo_output/Ex2/rlut_2.5x2.5_esmf_linear_metrics\n",
      "INFO::2021-01-22 13:16::pcmdi_metrics::Ex2:: Results saved to a json file: /Users/ordonez4/Documents/git/pcmdi_metrics/doc/jupyter/Demo/demo_output/Ex2/rlut_2.5x2.5_esmf_linear_metrics.json\n",
      "INFO::2021-01-22 13:16::pcmdi_metrics::Ex2:: TEST DATA IS: CSIRO-Mk3-6-0\n",
      "INFO::2021-01-22 13:16::pcmdi_metrics::Ex2:: CSIRO-Mk3-6-0 is a model\n",
      "INFO::2021-01-22 13:16::pcmdi_metrics::Ex2:: Saving results to: /Users/ordonez4/Documents/git/pcmdi_metrics/doc/jupyter/Demo/demo_output/Ex2/rlut_2.5x2.5_esmf_linear_metrics\n",
      "INFO::2021-01-22 13:16::pcmdi_metrics::Ex2:: Results saved to a json file: /Users/ordonez4/Documents/git/pcmdi_metrics/doc/jupyter/Demo/demo_output/Ex2/rlut_2.5x2.5_esmf_linear_metrics.json\n",
      "INFO::2021-01-22 13:16::pcmdi_metrics::Ex2:: REGION: NHEX\n",
      "INFO::2021-01-22 13:16::pcmdi_metrics::Ex2:: alternate1 is an obs\n",
      "INFO::2021-01-22 13:16::pcmdi_metrics::Ex2:: Could not figure out obs mask name from obs json file\n",
      "INFO::2021-01-22 13:16::pcmdi_metrics::Ex2:: TEST DATA IS: ACCESS1-0\n",
      "INFO::2021-01-22 13:16::pcmdi_metrics::Ex2:: ACCESS1-0 is a model\n",
      "INFO::2021-01-22 13:16::pcmdi_metrics::Ex2:: Saving results to: /Users/ordonez4/Documents/git/pcmdi_metrics/doc/jupyter/Demo/demo_output/Ex2/rlut_2.5x2.5_esmf_linear_metrics\n",
      "INFO::2021-01-22 13:16::pcmdi_metrics::Ex2:: Results saved to a json file: /Users/ordonez4/Documents/git/pcmdi_metrics/doc/jupyter/Demo/demo_output/Ex2/rlut_2.5x2.5_esmf_linear_metrics.json\n",
      "INFO::2021-01-22 13:16::pcmdi_metrics::Ex2:: TEST DATA IS: CSIRO-Mk3-6-0\n",
      "INFO::2021-01-22 13:16::pcmdi_metrics::Ex2:: CSIRO-Mk3-6-0 is a model\n",
      "INFO::2021-01-22 13:16::pcmdi_metrics::Ex2:: Saving results to: /Users/ordonez4/Documents/git/pcmdi_metrics/doc/jupyter/Demo/demo_output/Ex2/rlut_2.5x2.5_esmf_linear_metrics\n",
      "INFO::2021-01-22 13:16::pcmdi_metrics::Ex2:: Results saved to a json file: /Users/ordonez4/Documents/git/pcmdi_metrics/doc/jupyter/Demo/demo_output/Ex2/rlut_2.5x2.5_esmf_linear_metrics.json\n",
      "INFO::2021-01-22 13:16::pcmdi_metrics::Ex2:: default is an obs\n",
      "INFO::2021-01-22 13:16::pcmdi_metrics::Ex2:: Could not figure out obs mask name from obs json file\n",
      "INFO::2021-01-22 13:16::pcmdi_metrics::Ex2:: TEST DATA IS: ACCESS1-0\n",
      "INFO::2021-01-22 13:16::pcmdi_metrics::Ex2:: ACCESS1-0 is a model\n",
      "INFO::2021-01-22 13:16::pcmdi_metrics::Ex2:: Saving results to: /Users/ordonez4/Documents/git/pcmdi_metrics/doc/jupyter/Demo/demo_output/Ex2/rlut_2.5x2.5_esmf_linear_metrics\n",
      "INFO::2021-01-22 13:16::pcmdi_metrics::Ex2:: Results saved to a json file: /Users/ordonez4/Documents/git/pcmdi_metrics/doc/jupyter/Demo/demo_output/Ex2/rlut_2.5x2.5_esmf_linear_metrics.json\n",
      "INFO::2021-01-22 13:16::pcmdi_metrics::Ex2:: TEST DATA IS: CSIRO-Mk3-6-0\n",
      "INFO::2021-01-22 13:16::pcmdi_metrics::Ex2:: CSIRO-Mk3-6-0 is a model\n",
      "INFO::2021-01-22 13:16::pcmdi_metrics::Ex2:: Saving results to: /Users/ordonez4/Documents/git/pcmdi_metrics/doc/jupyter/Demo/demo_output/Ex2/rlut_2.5x2.5_esmf_linear_metrics\n",
      "INFO::2021-01-22 13:16::pcmdi_metrics::Ex2:: Results saved to a json file: /Users/ordonez4/Documents/git/pcmdi_metrics/doc/jupyter/Demo/demo_output/Ex2/rlut_2.5x2.5_esmf_linear_metrics.json\n",
      "INFO::2021-01-22 13:16::pcmdi_metrics::Ex2:: REGION: SHEX\n",
      "INFO::2021-01-22 13:16::pcmdi_metrics::Ex2:: alternate1 is an obs\n",
      "INFO::2021-01-22 13:16::pcmdi_metrics::Ex2:: Could not figure out obs mask name from obs json file\n",
      "INFO::2021-01-22 13:16::pcmdi_metrics::Ex2:: TEST DATA IS: ACCESS1-0\n",
      "INFO::2021-01-22 13:16::pcmdi_metrics::Ex2:: ACCESS1-0 is a model\n",
      "INFO::2021-01-22 13:16::pcmdi_metrics::Ex2:: Saving results to: /Users/ordonez4/Documents/git/pcmdi_metrics/doc/jupyter/Demo/demo_output/Ex2/rlut_2.5x2.5_esmf_linear_metrics\n",
      "INFO::2021-01-22 13:16::pcmdi_metrics::Ex2:: Results saved to a json file: /Users/ordonez4/Documents/git/pcmdi_metrics/doc/jupyter/Demo/demo_output/Ex2/rlut_2.5x2.5_esmf_linear_metrics.json\n",
      "INFO::2021-01-22 13:16::pcmdi_metrics::Ex2:: TEST DATA IS: CSIRO-Mk3-6-0\n",
      "INFO::2021-01-22 13:16::pcmdi_metrics::Ex2:: CSIRO-Mk3-6-0 is a model\n",
      "INFO::2021-01-22 13:16::pcmdi_metrics::Ex2:: Saving results to: /Users/ordonez4/Documents/git/pcmdi_metrics/doc/jupyter/Demo/demo_output/Ex2/rlut_2.5x2.5_esmf_linear_metrics\n",
      "INFO::2021-01-22 13:16::pcmdi_metrics::Ex2:: Results saved to a json file: /Users/ordonez4/Documents/git/pcmdi_metrics/doc/jupyter/Demo/demo_output/Ex2/rlut_2.5x2.5_esmf_linear_metrics.json\n",
      "INFO::2021-01-22 13:16::pcmdi_metrics::Ex2:: default is an obs\n",
      "INFO::2021-01-22 13:16::pcmdi_metrics::Ex2:: Could not figure out obs mask name from obs json file\n",
      "INFO::2021-01-22 13:16::pcmdi_metrics::Ex2:: TEST DATA IS: ACCESS1-0\n",
      "INFO::2021-01-22 13:16::pcmdi_metrics::Ex2:: ACCESS1-0 is a model\n",
      "INFO::2021-01-22 13:16::pcmdi_metrics::Ex2:: Saving results to: /Users/ordonez4/Documents/git/pcmdi_metrics/doc/jupyter/Demo/demo_output/Ex2/rlut_2.5x2.5_esmf_linear_metrics\n",
      "INFO::2021-01-22 13:16::pcmdi_metrics::Ex2:: Results saved to a json file: /Users/ordonez4/Documents/git/pcmdi_metrics/doc/jupyter/Demo/demo_output/Ex2/rlut_2.5x2.5_esmf_linear_metrics.json\n",
      "INFO::2021-01-22 13:16::pcmdi_metrics::Ex2:: TEST DATA IS: CSIRO-Mk3-6-0\n",
      "INFO::2021-01-22 13:16::pcmdi_metrics::Ex2:: CSIRO-Mk3-6-0 is a model\n",
      "INFO::2021-01-22 13:16::pcmdi_metrics::Ex2:: Saving results to: /Users/ordonez4/Documents/git/pcmdi_metrics/doc/jupyter/Demo/demo_output/Ex2/rlut_2.5x2.5_esmf_linear_metrics\n",
      "INFO::2021-01-22 13:16::pcmdi_metrics::Ex2:: Results saved to a json file: /Users/ordonez4/Documents/git/pcmdi_metrics/doc/jupyter/Demo/demo_output/Ex2/rlut_2.5x2.5_esmf_linear_metrics.json\n",
      "INFO::2021-01-22 13:16::pcmdi_metrics::Ex2:: REGION: TROPICS\n",
      "INFO::2021-01-22 13:16::pcmdi_metrics::Ex2:: alternate1 is an obs\n",
      "INFO::2021-01-22 13:16::pcmdi_metrics::Ex2:: Could not figure out obs mask name from obs json file\n",
      "INFO::2021-01-22 13:16::pcmdi_metrics::Ex2:: TEST DATA IS: ACCESS1-0\n",
      "INFO::2021-01-22 13:16::pcmdi_metrics::Ex2:: ACCESS1-0 is a model\n",
      "INFO::2021-01-22 13:16::pcmdi_metrics::Ex2:: Saving results to: /Users/ordonez4/Documents/git/pcmdi_metrics/doc/jupyter/Demo/demo_output/Ex2/rlut_2.5x2.5_esmf_linear_metrics\n",
      "INFO::2021-01-22 13:16::pcmdi_metrics::Ex2:: Results saved to a json file: /Users/ordonez4/Documents/git/pcmdi_metrics/doc/jupyter/Demo/demo_output/Ex2/rlut_2.5x2.5_esmf_linear_metrics.json\n",
      "INFO::2021-01-22 13:16::pcmdi_metrics::Ex2:: TEST DATA IS: CSIRO-Mk3-6-0\n",
      "INFO::2021-01-22 13:16::pcmdi_metrics::Ex2:: CSIRO-Mk3-6-0 is a model\n",
      "INFO::2021-01-22 13:16::pcmdi_metrics::Ex2:: Saving results to: /Users/ordonez4/Documents/git/pcmdi_metrics/doc/jupyter/Demo/demo_output/Ex2/rlut_2.5x2.5_esmf_linear_metrics\n",
      "INFO::2021-01-22 13:16::pcmdi_metrics::Ex2:: Results saved to a json file: /Users/ordonez4/Documents/git/pcmdi_metrics/doc/jupyter/Demo/demo_output/Ex2/rlut_2.5x2.5_esmf_linear_metrics.json\n",
      "INFO::2021-01-22 13:16::pcmdi_metrics::Ex2:: default is an obs\n",
      "INFO::2021-01-22 13:16::pcmdi_metrics::Ex2:: Could not figure out obs mask name from obs json file\n",
      "INFO::2021-01-22 13:16::pcmdi_metrics::Ex2:: TEST DATA IS: ACCESS1-0\n",
      "INFO::2021-01-22 13:16::pcmdi_metrics::Ex2:: ACCESS1-0 is a model\n",
      "INFO::2021-01-22 13:16::pcmdi_metrics::Ex2:: Saving results to: /Users/ordonez4/Documents/git/pcmdi_metrics/doc/jupyter/Demo/demo_output/Ex2/rlut_2.5x2.5_esmf_linear_metrics\n",
      "INFO::2021-01-22 13:16::pcmdi_metrics::Ex2:: Results saved to a json file: /Users/ordonez4/Documents/git/pcmdi_metrics/doc/jupyter/Demo/demo_output/Ex2/rlut_2.5x2.5_esmf_linear_metrics.json\n",
      "INFO::2021-01-22 13:16::pcmdi_metrics::Ex2:: TEST DATA IS: CSIRO-Mk3-6-0\n",
      "INFO::2021-01-22 13:16::pcmdi_metrics::Ex2:: CSIRO-Mk3-6-0 is a model\n",
      "INFO::2021-01-22 13:16::pcmdi_metrics::Ex2:: Saving results to: /Users/ordonez4/Documents/git/pcmdi_metrics/doc/jupyter/Demo/demo_output/Ex2/rlut_2.5x2.5_esmf_linear_metrics\n",
      "INFO::2021-01-22 13:16::pcmdi_metrics::Ex2:: Results saved to a json file: /Users/ordonez4/Documents/git/pcmdi_metrics/doc/jupyter/Demo/demo_output/Ex2/rlut_2.5x2.5_esmf_linear_metrics.json\n"
     ]
    }
   ],
   "source": [
    "%%bash\n",
    "mean_climate_driver.py  -p basic_param.py --case_id 'Ex2' --regrid_tool 'esmf'"
   ]
  },
  {
   "cell_type": "markdown",
   "metadata": {},
   "source": [
    "### Specifying the model  \n",
    "It is easy to change the models or variables in the analysis. Whatever variables you choose must be present in both your model files and obervations. This example shows how to specify a variable while running only the ACCESS1-0 model."
   ]
  },
  {
   "cell_type": "code",
   "execution_count": 20,
   "metadata": {
    "scrolled": true
   },
   "outputs": [
    {
     "name": "stderr",
     "output_type": "stream",
     "text": [
      "CDMS system error: No such file or directory\n",
      "CDMS I/O error: Opening file /Users/ordonez4/Documents/git/pcmdi_metrics/doc/jupyter/Demo/demo_data/example_data/atm/mo/rlut/ac/sftlf_ACCESS1-0.nc\n",
      "INFO::2021-01-22 13:17::pcmdi_metrics::Ex3:: REGION: global\n",
      "INFO::2021-01-22 13:17::pcmdi_metrics::Ex3:: alternate1 is an obs\n",
      "INFO::2021-01-22 13:17::pcmdi_metrics::Ex3:: Could not figure out obs mask name from obs json file\n",
      "INFO::2021-01-22 13:17::pcmdi_metrics::Ex3:: TEST DATA IS: ACCESS1-0\n",
      "INFO::2021-01-22 13:17::pcmdi_metrics::Ex3:: ACCESS1-0 is a model\n",
      "INFO::2021-01-22 13:17::pcmdi_metrics::Ex3:: Saving results to: /Users/ordonez4/Documents/git/pcmdi_metrics/doc/jupyter/Demo/demo_output/Ex3/rlut_2.5x2.5_regrid2_linear_metrics\n",
      "INFO::2021-01-22 13:17::pcmdi_metrics::Ex3:: Results saved to a json file: /Users/ordonez4/Documents/git/pcmdi_metrics/doc/jupyter/Demo/demo_output/Ex3/rlut_2.5x2.5_regrid2_linear_metrics.json\n",
      "INFO::2021-01-22 13:17::pcmdi_metrics::Ex3:: default is an obs\n",
      "INFO::2021-01-22 13:17::pcmdi_metrics::Ex3:: Could not figure out obs mask name from obs json file\n",
      "INFO::2021-01-22 13:17::pcmdi_metrics::Ex3:: TEST DATA IS: ACCESS1-0\n",
      "INFO::2021-01-22 13:17::pcmdi_metrics::Ex3:: ACCESS1-0 is a model\n",
      "INFO::2021-01-22 13:17::pcmdi_metrics::Ex3:: Saving results to: /Users/ordonez4/Documents/git/pcmdi_metrics/doc/jupyter/Demo/demo_output/Ex3/rlut_2.5x2.5_regrid2_linear_metrics\n",
      "INFO::2021-01-22 13:17::pcmdi_metrics::Ex3:: Results saved to a json file: /Users/ordonez4/Documents/git/pcmdi_metrics/doc/jupyter/Demo/demo_output/Ex3/rlut_2.5x2.5_regrid2_linear_metrics.json\n",
      "INFO::2021-01-22 13:17::pcmdi_metrics::Ex3:: REGION: NHEX\n",
      "INFO::2021-01-22 13:17::pcmdi_metrics::Ex3:: alternate1 is an obs\n",
      "INFO::2021-01-22 13:17::pcmdi_metrics::Ex3:: Could not figure out obs mask name from obs json file\n",
      "INFO::2021-01-22 13:17::pcmdi_metrics::Ex3:: TEST DATA IS: ACCESS1-0\n",
      "INFO::2021-01-22 13:17::pcmdi_metrics::Ex3:: ACCESS1-0 is a model\n",
      "INFO::2021-01-22 13:17::pcmdi_metrics::Ex3:: Saving results to: /Users/ordonez4/Documents/git/pcmdi_metrics/doc/jupyter/Demo/demo_output/Ex3/rlut_2.5x2.5_regrid2_linear_metrics\n",
      "INFO::2021-01-22 13:17::pcmdi_metrics::Ex3:: Results saved to a json file: /Users/ordonez4/Documents/git/pcmdi_metrics/doc/jupyter/Demo/demo_output/Ex3/rlut_2.5x2.5_regrid2_linear_metrics.json\n",
      "INFO::2021-01-22 13:17::pcmdi_metrics::Ex3:: default is an obs\n",
      "INFO::2021-01-22 13:17::pcmdi_metrics::Ex3:: Could not figure out obs mask name from obs json file\n",
      "INFO::2021-01-22 13:17::pcmdi_metrics::Ex3:: TEST DATA IS: ACCESS1-0\n",
      "INFO::2021-01-22 13:17::pcmdi_metrics::Ex3:: ACCESS1-0 is a model\n",
      "INFO::2021-01-22 13:17::pcmdi_metrics::Ex3:: Saving results to: /Users/ordonez4/Documents/git/pcmdi_metrics/doc/jupyter/Demo/demo_output/Ex3/rlut_2.5x2.5_regrid2_linear_metrics\n",
      "INFO::2021-01-22 13:17::pcmdi_metrics::Ex3:: Results saved to a json file: /Users/ordonez4/Documents/git/pcmdi_metrics/doc/jupyter/Demo/demo_output/Ex3/rlut_2.5x2.5_regrid2_linear_metrics.json\n",
      "INFO::2021-01-22 13:17::pcmdi_metrics::Ex3:: REGION: SHEX\n",
      "INFO::2021-01-22 13:17::pcmdi_metrics::Ex3:: alternate1 is an obs\n",
      "INFO::2021-01-22 13:17::pcmdi_metrics::Ex3:: Could not figure out obs mask name from obs json file\n",
      "INFO::2021-01-22 13:17::pcmdi_metrics::Ex3:: TEST DATA IS: ACCESS1-0\n",
      "INFO::2021-01-22 13:17::pcmdi_metrics::Ex3:: ACCESS1-0 is a model\n",
      "INFO::2021-01-22 13:17::pcmdi_metrics::Ex3:: Saving results to: /Users/ordonez4/Documents/git/pcmdi_metrics/doc/jupyter/Demo/demo_output/Ex3/rlut_2.5x2.5_regrid2_linear_metrics\n",
      "INFO::2021-01-22 13:17::pcmdi_metrics::Ex3:: Results saved to a json file: /Users/ordonez4/Documents/git/pcmdi_metrics/doc/jupyter/Demo/demo_output/Ex3/rlut_2.5x2.5_regrid2_linear_metrics.json\n",
      "INFO::2021-01-22 13:17::pcmdi_metrics::Ex3:: default is an obs\n",
      "INFO::2021-01-22 13:17::pcmdi_metrics::Ex3:: Could not figure out obs mask name from obs json file\n",
      "INFO::2021-01-22 13:17::pcmdi_metrics::Ex3:: TEST DATA IS: ACCESS1-0\n",
      "INFO::2021-01-22 13:17::pcmdi_metrics::Ex3:: ACCESS1-0 is a model\n",
      "INFO::2021-01-22 13:17::pcmdi_metrics::Ex3:: Saving results to: /Users/ordonez4/Documents/git/pcmdi_metrics/doc/jupyter/Demo/demo_output/Ex3/rlut_2.5x2.5_regrid2_linear_metrics\n",
      "INFO::2021-01-22 13:17::pcmdi_metrics::Ex3:: Results saved to a json file: /Users/ordonez4/Documents/git/pcmdi_metrics/doc/jupyter/Demo/demo_output/Ex3/rlut_2.5x2.5_regrid2_linear_metrics.json\n",
      "INFO::2021-01-22 13:17::pcmdi_metrics::Ex3:: REGION: TROPICS\n",
      "INFO::2021-01-22 13:17::pcmdi_metrics::Ex3:: alternate1 is an obs\n",
      "INFO::2021-01-22 13:17::pcmdi_metrics::Ex3:: Could not figure out obs mask name from obs json file\n",
      "INFO::2021-01-22 13:17::pcmdi_metrics::Ex3:: TEST DATA IS: ACCESS1-0\n",
      "INFO::2021-01-22 13:17::pcmdi_metrics::Ex3:: ACCESS1-0 is a model\n",
      "INFO::2021-01-22 13:17::pcmdi_metrics::Ex3:: Saving results to: /Users/ordonez4/Documents/git/pcmdi_metrics/doc/jupyter/Demo/demo_output/Ex3/rlut_2.5x2.5_regrid2_linear_metrics\n",
      "INFO::2021-01-22 13:17::pcmdi_metrics::Ex3:: Results saved to a json file: /Users/ordonez4/Documents/git/pcmdi_metrics/doc/jupyter/Demo/demo_output/Ex3/rlut_2.5x2.5_regrid2_linear_metrics.json\n",
      "INFO::2021-01-22 13:17::pcmdi_metrics::Ex3:: default is an obs\n",
      "INFO::2021-01-22 13:17::pcmdi_metrics::Ex3:: Could not figure out obs mask name from obs json file\n",
      "INFO::2021-01-22 13:17::pcmdi_metrics::Ex3:: TEST DATA IS: ACCESS1-0\n",
      "INFO::2021-01-22 13:17::pcmdi_metrics::Ex3:: ACCESS1-0 is a model\n",
      "INFO::2021-01-22 13:17::pcmdi_metrics::Ex3:: Saving results to: /Users/ordonez4/Documents/git/pcmdi_metrics/doc/jupyter/Demo/demo_output/Ex3/rlut_2.5x2.5_regrid2_linear_metrics\n",
      "INFO::2021-01-22 13:17::pcmdi_metrics::Ex3:: Results saved to a json file: /Users/ordonez4/Documents/git/pcmdi_metrics/doc/jupyter/Demo/demo_output/Ex3/rlut_2.5x2.5_regrid2_linear_metrics.json\n"
     ]
    }
   ],
   "source": [
    "%%bash\n",
    "mean_climate_driver.py -p basic_param.py --case_id 'Ex3' --test_data_set 'ACCESS1-0' --vars \"rlut\""
   ]
  },
  {
   "cell_type": "markdown",
   "metadata": {},
   "source": [
    "### Using custom regions  \n",
    "This example specifies additional regions for the analysis. The predefined regions that can be set by the `--regions` flag can be found in [default_regions.py](https://github.com/PCMDI/pcmdi_metrics/blob/master/share/default_regions.py). "
   ]
  },
  {
   "cell_type": "code",
   "execution_count": 21,
   "metadata": {},
   "outputs": [
    {
     "name": "stderr",
     "output_type": "stream",
     "text": [
      "CDMS system error: No such file or directory\n",
      "CDMS I/O error: Opening file /Users/ordonez4/Documents/git/pcmdi_metrics/doc/jupyter/Demo/demo_data/example_data/atm/mo/rlut/ac/sftlf_ACCESS1-0.nc\n",
      "CDMS system error: No such file or directory\n",
      "CDMS I/O error: Opening file /Users/ordonez4/Documents/git/pcmdi_metrics/doc/jupyter/Demo/demo_data/example_data/atm/mo/rlut/ac/sftlf_CSIRO-Mk3-6-0.nc\n",
      "INFO::2021-01-22 13:19::pcmdi_metrics::Ex4:: REGION: land\n",
      "INFO::2021-01-22 13:19::pcmdi_metrics::Ex4:: alternate1 is an obs\n",
      "INFO::2021-01-22 13:19::pcmdi_metrics::Ex4:: Could not figure out obs mask name from obs json file\n",
      "INFO::2021-01-22 13:19::pcmdi_metrics::Ex4:: TEST DATA IS: ACCESS1-0\n",
      "INFO::2021-01-22 13:19::pcmdi_metrics::Ex4:: ACCESS1-0 is a model\n",
      "INFO::2021-01-22 13:19::pcmdi_metrics::Ex4:: Auto generating sftlf for model /Users/ordonez4/Documents/git/pcmdi_metrics/doc/jupyter/Demo/demo_data/example_data/atm/mo/rlut/ac/CMIP5.historical.ACCESS1-0.r1i1p1.mon.rlut.198101-200512.AC.v20190225.nc\n",
      "INFO::2021-01-22 13:20::pcmdi_metrics::Ex4:: Auto generated sftlf for model ACCESS1-0\n",
      "/Users/ordonez4/miniconda3/envs/pcmdi/lib/python3.8/site-packages/numpy/ma/core.py:1021: RuntimeWarning: overflow encountered in multiply\n",
      "  result = self.f(da, db, *args, **kwargs)\n",
      "INFO::2021-01-22 13:20::pcmdi_metrics::Ex4:: Saving results to: /Users/ordonez4/Documents/git/pcmdi_metrics/doc/jupyter/Demo/demo_output/Ex4/rlut_2.5x2.5_regrid2_linear_metrics\n",
      "INFO::2021-01-22 13:20::pcmdi_metrics::Ex4:: Results saved to a json file: /Users/ordonez4/Documents/git/pcmdi_metrics/doc/jupyter/Demo/demo_output/Ex4/rlut_2.5x2.5_regrid2_linear_metrics.json\n",
      "INFO::2021-01-22 13:20::pcmdi_metrics::Ex4:: TEST DATA IS: CSIRO-Mk3-6-0\n",
      "INFO::2021-01-22 13:20::pcmdi_metrics::Ex4:: CSIRO-Mk3-6-0 is a model\n",
      "INFO::2021-01-22 13:20::pcmdi_metrics::Ex4:: Auto generating sftlf for model /Users/ordonez4/Documents/git/pcmdi_metrics/doc/jupyter/Demo/demo_data/example_data/atm/mo/rlut/ac/CMIP5.historical.CSIRO-Mk3-6-0.r1i1p1.mon.rlut.198101-200512.AC.v20190225.nc\n",
      "INFO::2021-01-22 13:20::pcmdi_metrics::Ex4:: Auto generated sftlf for model CSIRO-Mk3-6-0\n",
      "/Users/ordonez4/miniconda3/envs/pcmdi/lib/python3.8/site-packages/numpy/ma/core.py:1021: RuntimeWarning: overflow encountered in multiply\n",
      "  result = self.f(da, db, *args, **kwargs)\n",
      "INFO::2021-01-22 13:20::pcmdi_metrics::Ex4:: Saving results to: /Users/ordonez4/Documents/git/pcmdi_metrics/doc/jupyter/Demo/demo_output/Ex4/rlut_2.5x2.5_regrid2_linear_metrics\n",
      "INFO::2021-01-22 13:20::pcmdi_metrics::Ex4:: Results saved to a json file: /Users/ordonez4/Documents/git/pcmdi_metrics/doc/jupyter/Demo/demo_output/Ex4/rlut_2.5x2.5_regrid2_linear_metrics.json\n",
      "INFO::2021-01-22 13:20::pcmdi_metrics::Ex4:: default is an obs\n",
      "INFO::2021-01-22 13:20::pcmdi_metrics::Ex4:: Could not figure out obs mask name from obs json file\n",
      "INFO::2021-01-22 13:20::pcmdi_metrics::Ex4:: TEST DATA IS: ACCESS1-0\n",
      "INFO::2021-01-22 13:20::pcmdi_metrics::Ex4:: ACCESS1-0 is a model\n",
      "INFO::2021-01-22 13:20::pcmdi_metrics::Ex4:: Saving results to: /Users/ordonez4/Documents/git/pcmdi_metrics/doc/jupyter/Demo/demo_output/Ex4/rlut_2.5x2.5_regrid2_linear_metrics\n",
      "INFO::2021-01-22 13:20::pcmdi_metrics::Ex4:: Results saved to a json file: /Users/ordonez4/Documents/git/pcmdi_metrics/doc/jupyter/Demo/demo_output/Ex4/rlut_2.5x2.5_regrid2_linear_metrics.json\n",
      "INFO::2021-01-22 13:20::pcmdi_metrics::Ex4:: TEST DATA IS: CSIRO-Mk3-6-0\n",
      "INFO::2021-01-22 13:20::pcmdi_metrics::Ex4:: CSIRO-Mk3-6-0 is a model\n",
      "INFO::2021-01-22 13:20::pcmdi_metrics::Ex4:: Saving results to: /Users/ordonez4/Documents/git/pcmdi_metrics/doc/jupyter/Demo/demo_output/Ex4/rlut_2.5x2.5_regrid2_linear_metrics\n",
      "INFO::2021-01-22 13:20::pcmdi_metrics::Ex4:: Results saved to a json file: /Users/ordonez4/Documents/git/pcmdi_metrics/doc/jupyter/Demo/demo_output/Ex4/rlut_2.5x2.5_regrid2_linear_metrics.json\n"
     ]
    }
   ],
   "source": [
    "%%bash\n",
    "mean_climate_driver.py -p basic_param.py --case_id 'Ex4' --regions '{\"rlut\": [\"land\"]}'"
   ]
  },
  {
   "cell_type": "markdown",
   "metadata": {},
   "source": [
    "The region value `None` is another way of indicating \"global\""
   ]
  },
  {
   "cell_type": "markdown",
   "metadata": {},
   "source": [
    "It is not currently possible to edit the region definitions from the command line. This is controlled by the variable `regions_specs` in the parameter file. For example, a custom region for Antarctica could be defined with `regions_specs = {'ANT': {'value': 100, 'domain': cdutil.region.domain(latitude=(-60, -90))}}` in the parameter file.  \n",
    "\n",
    "The command to use the custom region would look like `--regions '{\"rlut\": [\"ANT\"]}'` in the command line or `regions = {\"rlut\": [\"ANT\"]}` in the parameter file."
   ]
  },
  {
   "cell_type": "markdown",
   "metadata": {},
   "source": [
    "#### Land/sea masks  \n",
    "Land/Sea masking is required for some regions (e.g. \"land\"). This is controlled by variables `sftlf_filename_template` and `generate_sftlf`. The metrics package expects the land/sea mask files to be located with the model data under a fixed field variable ('fx') with a file name that follows the pattern in `sftlf_filename_template`. The example data does not come with a land/sea mask, so we set `generate_sftlf` to `True` in the basic parameter file to have the PMP generate a land/sea mask where 0 represents ocean and 100 represents land."
   ]
  },
  {
   "cell_type": "markdown",
   "metadata": {},
   "source": [
    "### Extract vertical level  and customize observations\n",
    "This example shows how to extract a vertical level from a 4-D variable. The 500 hPa level of zg is specified by adding \"\\_500\" to zg.  \n",
    "\n",
    "There are several sets of observations available in the standard PCMDI set. This case uses the 'alternate1' observations for zg with the flag `reference_data_set`.  \n",
    "\n",
    "To see which datasets are the default and which are alternates, check out [pcmdi_metrics/doc/obs_info_dictionary.json](https://github.com/PCMDI/pcmdi_metrics/blob/master/doc/obs_info_dictionary.json)."
   ]
  },
  {
   "cell_type": "code",
   "execution_count": 27,
   "metadata": {},
   "outputs": [
    {
     "name": "stderr",
     "output_type": "stream",
     "text": [
      "CDMS system error: No such file or directory\n",
      "CDMS I/O error: Opening file /Users/ordonez4/Documents/git/pcmdi_metrics/doc/jupyter/Demo/demo_data/CMIP6_demo_clims/sftlf_MCM-UA-1-0.nc\n",
      "INFO::2021-01-22 13:24::pcmdi_metrics::Ex6:: REGION: global\n",
      "INFO::2021-01-22 13:24::pcmdi_metrics::Ex6:: alternate1 is an obs\n",
      "INFO::2021-01-22 13:24::pcmdi_metrics::Ex6:: Could not figure out obs mask name from obs json file\n",
      "INFO::2021-01-22 13:24::pcmdi_metrics::Ex6:: TEST DATA IS: MCM-UA-1-0\n",
      "INFO::2021-01-22 13:24::pcmdi_metrics::Ex6:: MCM-UA-1-0 is a model\n",
      "/Users/ordonez4/miniconda3/envs/pcmdi/lib/python3.8/site-packages/cdms2/fvariable.py:103: FutureWarning: Using a non-tuple sequence for multidimensional indexing is deprecated; use `arr[tuple(seq)]` instead of `arr[seq]`. In the future this will be interpreted as an array index, `arr[np.array(seq)]`, which will result either in an error or a different result.\n",
      "  result = result[revlist]\n",
      "INFO::2021-01-22 13:24::pcmdi_metrics::Ex6:: Saving results to: /Users/ordonez4/Documents/git/pcmdi_metrics/doc/jupyter/Demo/demo_output/Ex6/zg-500_2.5x2.5_regrid2_linear_metrics\n",
      "INFO::2021-01-22 13:24::pcmdi_metrics::Ex6:: Results saved to a json file: /Users/ordonez4/Documents/git/pcmdi_metrics/doc/jupyter/Demo/demo_output/Ex6/zg-500_2.5x2.5_regrid2_linear_metrics.json\n",
      "INFO::2021-01-22 13:24::pcmdi_metrics::Ex6:: REGION: NHEX\n",
      "INFO::2021-01-22 13:24::pcmdi_metrics::Ex6:: alternate1 is an obs\n",
      "INFO::2021-01-22 13:24::pcmdi_metrics::Ex6:: Could not figure out obs mask name from obs json file\n",
      "INFO::2021-01-22 13:24::pcmdi_metrics::Ex6:: TEST DATA IS: MCM-UA-1-0\n",
      "INFO::2021-01-22 13:24::pcmdi_metrics::Ex6:: MCM-UA-1-0 is a model\n",
      "/Users/ordonez4/miniconda3/envs/pcmdi/lib/python3.8/site-packages/cdms2/fvariable.py:103: FutureWarning: Using a non-tuple sequence for multidimensional indexing is deprecated; use `arr[tuple(seq)]` instead of `arr[seq]`. In the future this will be interpreted as an array index, `arr[np.array(seq)]`, which will result either in an error or a different result.\n",
      "  result = result[revlist]\n",
      "INFO::2021-01-22 13:24::pcmdi_metrics::Ex6:: Saving results to: /Users/ordonez4/Documents/git/pcmdi_metrics/doc/jupyter/Demo/demo_output/Ex6/zg-500_2.5x2.5_regrid2_linear_metrics\n",
      "INFO::2021-01-22 13:24::pcmdi_metrics::Ex6:: Results saved to a json file: /Users/ordonez4/Documents/git/pcmdi_metrics/doc/jupyter/Demo/demo_output/Ex6/zg-500_2.5x2.5_regrid2_linear_metrics.json\n",
      "INFO::2021-01-22 13:24::pcmdi_metrics::Ex6:: REGION: SHEX\n",
      "INFO::2021-01-22 13:24::pcmdi_metrics::Ex6:: alternate1 is an obs\n",
      "INFO::2021-01-22 13:24::pcmdi_metrics::Ex6:: Could not figure out obs mask name from obs json file\n",
      "INFO::2021-01-22 13:24::pcmdi_metrics::Ex6:: TEST DATA IS: MCM-UA-1-0\n",
      "INFO::2021-01-22 13:24::pcmdi_metrics::Ex6:: MCM-UA-1-0 is a model\n",
      "INFO::2021-01-22 13:24::pcmdi_metrics::Ex6:: Saving results to: /Users/ordonez4/Documents/git/pcmdi_metrics/doc/jupyter/Demo/demo_output/Ex6/zg-500_2.5x2.5_regrid2_linear_metrics\n",
      "INFO::2021-01-22 13:24::pcmdi_metrics::Ex6:: Results saved to a json file: /Users/ordonez4/Documents/git/pcmdi_metrics/doc/jupyter/Demo/demo_output/Ex6/zg-500_2.5x2.5_regrid2_linear_metrics.json\n",
      "INFO::2021-01-22 13:24::pcmdi_metrics::Ex6:: REGION: TROPICS\n",
      "INFO::2021-01-22 13:24::pcmdi_metrics::Ex6:: alternate1 is an obs\n",
      "INFO::2021-01-22 13:24::pcmdi_metrics::Ex6:: Could not figure out obs mask name from obs json file\n",
      "INFO::2021-01-22 13:24::pcmdi_metrics::Ex6:: TEST DATA IS: MCM-UA-1-0\n",
      "INFO::2021-01-22 13:24::pcmdi_metrics::Ex6:: MCM-UA-1-0 is a model\n",
      "INFO::2021-01-22 13:24::pcmdi_metrics::Ex6:: Saving results to: /Users/ordonez4/Documents/git/pcmdi_metrics/doc/jupyter/Demo/demo_output/Ex6/zg-500_2.5x2.5_regrid2_linear_metrics\n",
      "INFO::2021-01-22 13:24::pcmdi_metrics::Ex6:: Results saved to a json file: /Users/ordonez4/Documents/git/pcmdi_metrics/doc/jupyter/Demo/demo_output/Ex6/zg-500_2.5x2.5_regrid2_linear_metrics.json\n"
     ]
    }
   ],
   "source": [
    "%%bash\n",
    "# still need some changes in zg obs for this to work\n",
    "mean_climate_driver.py -p basic_param.py \\\n",
    "--case_id 'Ex6' \\\n",
    "--vars 'zg_500' \\\n",
    "--test_data_path 'demo_data/CMIP6_demo_clims' \\\n",
    "--test_data_set 'MCM-UA-1-0' \\\n",
    "--filename_template 'cmip6.historical.%(model_version).r1i1p1f1.mon.%(variable).198101-200512.AC.v20201119.nc' \\\n",
    "--reference_data_path 'demo_data/PCMDIobs2_clims' \\\n",
    "--reference_data_set \"alternate1\""
   ]
  },
  {
   "cell_type": "markdown",
   "metadata": {},
   "source": [
    "There are a couple of steps for using an observational dataset that isn't included in **obs_info_dict.json**. The observational dataset mush be documented in a catalog json following the format used in **obs_info_dict.json**. Then set the variable `custom_observations` to the path for this catalog. The observation files need to be located under the path specified by `reference_data_path`"
   ]
  },
  {
   "cell_type": "markdown",
   "metadata": {},
   "source": [
    "### Adding notes and other options  \n",
    "This example adds a field to \"user_notes\" in the output json and saves the interpolated fields. Interpolated fields are saved at the same directory level as the parameter file."
   ]
  },
  {
   "cell_type": "code",
   "execution_count": 28,
   "metadata": {
    "scrolled": true
   },
   "outputs": [
    {
     "name": "stderr",
     "output_type": "stream",
     "text": [
      "CDMS system error: No such file or directory\n",
      "CDMS I/O error: Opening file /Users/ordonez4/Documents/git/pcmdi_metrics/doc/jupyter/Demo/demo_data/example_data/atm/mo/rlut/ac/sftlf_ACCESS1-0.nc\n",
      "CDMS system error: No such file or directory\n",
      "CDMS I/O error: Opening file /Users/ordonez4/Documents/git/pcmdi_metrics/doc/jupyter/Demo/demo_data/example_data/atm/mo/rlut/ac/sftlf_CSIRO-Mk3-6-0.nc\n",
      "INFO::2021-01-22 13:30::pcmdi_metrics::Ex5:: REGION: global\n",
      "INFO::2021-01-22 13:30::pcmdi_metrics::Ex5:: alternate1 is an obs\n",
      "INFO::2021-01-22 13:30::pcmdi_metrics::Ex5:: Could not figure out obs mask name from obs json file\n",
      "INFO::2021-01-22 13:30::pcmdi_metrics::Ex5:: TEST DATA IS: ACCESS1-0\n",
      "INFO::2021-01-22 13:30::pcmdi_metrics::Ex5:: ACCESS1-0 is a model\n",
      "INFO::2021-01-22 13:30::pcmdi_metrics::Ex5:: Saving interpolated climatologies to: /Users/ordonez4/Documents/git/pcmdi_metrics/doc/jupyter/Demo/global\n",
      "INFO::2021-01-22 13:30::pcmdi_metrics::Ex5:: Results saved to a nc file: /Users/ordonez4/Documents/git/pcmdi_metrics/doc/jupyter/Demo/global.nc\n",
      "INFO::2021-01-22 13:30::pcmdi_metrics::Ex5:: Saving results to: /Users/ordonez4/Documents/git/pcmdi_metrics/doc/jupyter/Demo/demo_output/Ex5/rlut_2.5x2.5_regrid2_linear_metrics\n",
      "INFO::2021-01-22 13:30::pcmdi_metrics::Ex5:: Results saved to a json file: /Users/ordonez4/Documents/git/pcmdi_metrics/doc/jupyter/Demo/demo_output/Ex5/rlut_2.5x2.5_regrid2_linear_metrics.json\n",
      "INFO::2021-01-22 13:30::pcmdi_metrics::Ex5:: TEST DATA IS: CSIRO-Mk3-6-0\n",
      "INFO::2021-01-22 13:30::pcmdi_metrics::Ex5:: CSIRO-Mk3-6-0 is a model\n",
      "INFO::2021-01-22 13:30::pcmdi_metrics::Ex5:: Saving interpolated climatologies to: /Users/ordonez4/Documents/git/pcmdi_metrics/doc/jupyter/Demo/global\n",
      "INFO::2021-01-22 13:30::pcmdi_metrics::Ex5:: Results saved to a nc file: /Users/ordonez4/Documents/git/pcmdi_metrics/doc/jupyter/Demo/global.nc\n",
      "INFO::2021-01-22 13:30::pcmdi_metrics::Ex5:: Saving results to: /Users/ordonez4/Documents/git/pcmdi_metrics/doc/jupyter/Demo/demo_output/Ex5/rlut_2.5x2.5_regrid2_linear_metrics\n",
      "INFO::2021-01-22 13:30::pcmdi_metrics::Ex5:: Results saved to a json file: /Users/ordonez4/Documents/git/pcmdi_metrics/doc/jupyter/Demo/demo_output/Ex5/rlut_2.5x2.5_regrid2_linear_metrics.json\n",
      "INFO::2021-01-22 13:30::pcmdi_metrics::Ex5:: default is an obs\n",
      "INFO::2021-01-22 13:30::pcmdi_metrics::Ex5:: Could not figure out obs mask name from obs json file\n",
      "INFO::2021-01-22 13:30::pcmdi_metrics::Ex5:: TEST DATA IS: ACCESS1-0\n",
      "INFO::2021-01-22 13:30::pcmdi_metrics::Ex5:: ACCESS1-0 is a model\n",
      "INFO::2021-01-22 13:30::pcmdi_metrics::Ex5:: Saving results to: /Users/ordonez4/Documents/git/pcmdi_metrics/doc/jupyter/Demo/demo_output/Ex5/rlut_2.5x2.5_regrid2_linear_metrics\n",
      "INFO::2021-01-22 13:30::pcmdi_metrics::Ex5:: Results saved to a json file: /Users/ordonez4/Documents/git/pcmdi_metrics/doc/jupyter/Demo/demo_output/Ex5/rlut_2.5x2.5_regrid2_linear_metrics.json\n",
      "INFO::2021-01-22 13:30::pcmdi_metrics::Ex5:: TEST DATA IS: CSIRO-Mk3-6-0\n",
      "INFO::2021-01-22 13:30::pcmdi_metrics::Ex5:: CSIRO-Mk3-6-0 is a model\n",
      "INFO::2021-01-22 13:30::pcmdi_metrics::Ex5:: Saving results to: /Users/ordonez4/Documents/git/pcmdi_metrics/doc/jupyter/Demo/demo_output/Ex5/rlut_2.5x2.5_regrid2_linear_metrics\n",
      "INFO::2021-01-22 13:30::pcmdi_metrics::Ex5:: Results saved to a json file: /Users/ordonez4/Documents/git/pcmdi_metrics/doc/jupyter/Demo/demo_output/Ex5/rlut_2.5x2.5_regrid2_linear_metrics.json\n",
      "INFO::2021-01-22 13:30::pcmdi_metrics::Ex5:: REGION: NHEX\n",
      "INFO::2021-01-22 13:30::pcmdi_metrics::Ex5:: alternate1 is an obs\n",
      "INFO::2021-01-22 13:30::pcmdi_metrics::Ex5:: Could not figure out obs mask name from obs json file\n",
      "INFO::2021-01-22 13:30::pcmdi_metrics::Ex5:: TEST DATA IS: ACCESS1-0\n",
      "INFO::2021-01-22 13:30::pcmdi_metrics::Ex5:: ACCESS1-0 is a model\n",
      "INFO::2021-01-22 13:30::pcmdi_metrics::Ex5:: Saving interpolated climatologies to: /Users/ordonez4/Documents/git/pcmdi_metrics/doc/jupyter/Demo/NHEX\n",
      "INFO::2021-01-22 13:30::pcmdi_metrics::Ex5:: Results saved to a nc file: /Users/ordonez4/Documents/git/pcmdi_metrics/doc/jupyter/Demo/NHEX.nc\n",
      "INFO::2021-01-22 13:30::pcmdi_metrics::Ex5:: Saving results to: /Users/ordonez4/Documents/git/pcmdi_metrics/doc/jupyter/Demo/demo_output/Ex5/rlut_2.5x2.5_regrid2_linear_metrics\n",
      "INFO::2021-01-22 13:30::pcmdi_metrics::Ex5:: Results saved to a json file: /Users/ordonez4/Documents/git/pcmdi_metrics/doc/jupyter/Demo/demo_output/Ex5/rlut_2.5x2.5_regrid2_linear_metrics.json\n",
      "INFO::2021-01-22 13:30::pcmdi_metrics::Ex5:: TEST DATA IS: CSIRO-Mk3-6-0\n",
      "INFO::2021-01-22 13:30::pcmdi_metrics::Ex5:: CSIRO-Mk3-6-0 is a model\n",
      "INFO::2021-01-22 13:30::pcmdi_metrics::Ex5:: Saving interpolated climatologies to: /Users/ordonez4/Documents/git/pcmdi_metrics/doc/jupyter/Demo/NHEX\n",
      "INFO::2021-01-22 13:30::pcmdi_metrics::Ex5:: Results saved to a nc file: /Users/ordonez4/Documents/git/pcmdi_metrics/doc/jupyter/Demo/NHEX.nc\n",
      "INFO::2021-01-22 13:30::pcmdi_metrics::Ex5:: Saving results to: /Users/ordonez4/Documents/git/pcmdi_metrics/doc/jupyter/Demo/demo_output/Ex5/rlut_2.5x2.5_regrid2_linear_metrics\n",
      "INFO::2021-01-22 13:30::pcmdi_metrics::Ex5:: Results saved to a json file: /Users/ordonez4/Documents/git/pcmdi_metrics/doc/jupyter/Demo/demo_output/Ex5/rlut_2.5x2.5_regrid2_linear_metrics.json\n",
      "INFO::2021-01-22 13:30::pcmdi_metrics::Ex5:: default is an obs\n",
      "INFO::2021-01-22 13:30::pcmdi_metrics::Ex5:: Could not figure out obs mask name from obs json file\n",
      "INFO::2021-01-22 13:30::pcmdi_metrics::Ex5:: TEST DATA IS: ACCESS1-0\n",
      "INFO::2021-01-22 13:30::pcmdi_metrics::Ex5:: ACCESS1-0 is a model\n",
      "INFO::2021-01-22 13:30::pcmdi_metrics::Ex5:: Saving results to: /Users/ordonez4/Documents/git/pcmdi_metrics/doc/jupyter/Demo/demo_output/Ex5/rlut_2.5x2.5_regrid2_linear_metrics\n",
      "INFO::2021-01-22 13:30::pcmdi_metrics::Ex5:: Results saved to a json file: /Users/ordonez4/Documents/git/pcmdi_metrics/doc/jupyter/Demo/demo_output/Ex5/rlut_2.5x2.5_regrid2_linear_metrics.json\n",
      "INFO::2021-01-22 13:30::pcmdi_metrics::Ex5:: TEST DATA IS: CSIRO-Mk3-6-0\n",
      "INFO::2021-01-22 13:30::pcmdi_metrics::Ex5:: CSIRO-Mk3-6-0 is a model\n",
      "INFO::2021-01-22 13:30::pcmdi_metrics::Ex5:: Saving results to: /Users/ordonez4/Documents/git/pcmdi_metrics/doc/jupyter/Demo/demo_output/Ex5/rlut_2.5x2.5_regrid2_linear_metrics\n",
      "INFO::2021-01-22 13:30::pcmdi_metrics::Ex5:: Results saved to a json file: /Users/ordonez4/Documents/git/pcmdi_metrics/doc/jupyter/Demo/demo_output/Ex5/rlut_2.5x2.5_regrid2_linear_metrics.json\n",
      "INFO::2021-01-22 13:30::pcmdi_metrics::Ex5:: REGION: SHEX\n",
      "INFO::2021-01-22 13:30::pcmdi_metrics::Ex5:: alternate1 is an obs\n",
      "INFO::2021-01-22 13:30::pcmdi_metrics::Ex5:: Could not figure out obs mask name from obs json file\n",
      "INFO::2021-01-22 13:30::pcmdi_metrics::Ex5:: TEST DATA IS: ACCESS1-0\n",
      "INFO::2021-01-22 13:30::pcmdi_metrics::Ex5:: ACCESS1-0 is a model\n",
      "INFO::2021-01-22 13:30::pcmdi_metrics::Ex5:: Saving interpolated climatologies to: /Users/ordonez4/Documents/git/pcmdi_metrics/doc/jupyter/Demo/SHEX\n",
      "INFO::2021-01-22 13:30::pcmdi_metrics::Ex5:: Results saved to a nc file: /Users/ordonez4/Documents/git/pcmdi_metrics/doc/jupyter/Demo/SHEX.nc\n",
      "INFO::2021-01-22 13:30::pcmdi_metrics::Ex5:: Saving results to: /Users/ordonez4/Documents/git/pcmdi_metrics/doc/jupyter/Demo/demo_output/Ex5/rlut_2.5x2.5_regrid2_linear_metrics\n",
      "INFO::2021-01-22 13:30::pcmdi_metrics::Ex5:: Results saved to a json file: /Users/ordonez4/Documents/git/pcmdi_metrics/doc/jupyter/Demo/demo_output/Ex5/rlut_2.5x2.5_regrid2_linear_metrics.json\n",
      "INFO::2021-01-22 13:30::pcmdi_metrics::Ex5:: TEST DATA IS: CSIRO-Mk3-6-0\n",
      "INFO::2021-01-22 13:30::pcmdi_metrics::Ex5:: CSIRO-Mk3-6-0 is a model\n",
      "INFO::2021-01-22 13:30::pcmdi_metrics::Ex5:: Saving interpolated climatologies to: /Users/ordonez4/Documents/git/pcmdi_metrics/doc/jupyter/Demo/SHEX\n",
      "INFO::2021-01-22 13:30::pcmdi_metrics::Ex5:: Results saved to a nc file: /Users/ordonez4/Documents/git/pcmdi_metrics/doc/jupyter/Demo/SHEX.nc\n",
      "INFO::2021-01-22 13:30::pcmdi_metrics::Ex5:: Saving results to: /Users/ordonez4/Documents/git/pcmdi_metrics/doc/jupyter/Demo/demo_output/Ex5/rlut_2.5x2.5_regrid2_linear_metrics\n",
      "INFO::2021-01-22 13:30::pcmdi_metrics::Ex5:: Results saved to a json file: /Users/ordonez4/Documents/git/pcmdi_metrics/doc/jupyter/Demo/demo_output/Ex5/rlut_2.5x2.5_regrid2_linear_metrics.json\n",
      "INFO::2021-01-22 13:30::pcmdi_metrics::Ex5:: default is an obs\n",
      "INFO::2021-01-22 13:30::pcmdi_metrics::Ex5:: Could not figure out obs mask name from obs json file\n",
      "INFO::2021-01-22 13:30::pcmdi_metrics::Ex5:: TEST DATA IS: ACCESS1-0\n",
      "INFO::2021-01-22 13:30::pcmdi_metrics::Ex5:: ACCESS1-0 is a model\n",
      "INFO::2021-01-22 13:30::pcmdi_metrics::Ex5:: Saving results to: /Users/ordonez4/Documents/git/pcmdi_metrics/doc/jupyter/Demo/demo_output/Ex5/rlut_2.5x2.5_regrid2_linear_metrics\n",
      "INFO::2021-01-22 13:30::pcmdi_metrics::Ex5:: Results saved to a json file: /Users/ordonez4/Documents/git/pcmdi_metrics/doc/jupyter/Demo/demo_output/Ex5/rlut_2.5x2.5_regrid2_linear_metrics.json\n",
      "INFO::2021-01-22 13:30::pcmdi_metrics::Ex5:: TEST DATA IS: CSIRO-Mk3-6-0\n",
      "INFO::2021-01-22 13:30::pcmdi_metrics::Ex5:: CSIRO-Mk3-6-0 is a model\n",
      "INFO::2021-01-22 13:30::pcmdi_metrics::Ex5:: Saving results to: /Users/ordonez4/Documents/git/pcmdi_metrics/doc/jupyter/Demo/demo_output/Ex5/rlut_2.5x2.5_regrid2_linear_metrics\n",
      "INFO::2021-01-22 13:30::pcmdi_metrics::Ex5:: Results saved to a json file: /Users/ordonez4/Documents/git/pcmdi_metrics/doc/jupyter/Demo/demo_output/Ex5/rlut_2.5x2.5_regrid2_linear_metrics.json\n",
      "INFO::2021-01-22 13:30::pcmdi_metrics::Ex5:: REGION: TROPICS\n",
      "INFO::2021-01-22 13:30::pcmdi_metrics::Ex5:: alternate1 is an obs\n",
      "INFO::2021-01-22 13:30::pcmdi_metrics::Ex5:: Could not figure out obs mask name from obs json file\n",
      "INFO::2021-01-22 13:30::pcmdi_metrics::Ex5:: TEST DATA IS: ACCESS1-0\n",
      "INFO::2021-01-22 13:30::pcmdi_metrics::Ex5:: ACCESS1-0 is a model\n",
      "INFO::2021-01-22 13:30::pcmdi_metrics::Ex5:: Saving interpolated climatologies to: /Users/ordonez4/Documents/git/pcmdi_metrics/doc/jupyter/Demo/TROPICS\n",
      "INFO::2021-01-22 13:30::pcmdi_metrics::Ex5:: Results saved to a nc file: /Users/ordonez4/Documents/git/pcmdi_metrics/doc/jupyter/Demo/TROPICS.nc\n",
      "INFO::2021-01-22 13:30::pcmdi_metrics::Ex5:: Saving results to: /Users/ordonez4/Documents/git/pcmdi_metrics/doc/jupyter/Demo/demo_output/Ex5/rlut_2.5x2.5_regrid2_linear_metrics\n",
      "INFO::2021-01-22 13:30::pcmdi_metrics::Ex5:: Results saved to a json file: /Users/ordonez4/Documents/git/pcmdi_metrics/doc/jupyter/Demo/demo_output/Ex5/rlut_2.5x2.5_regrid2_linear_metrics.json\n",
      "INFO::2021-01-22 13:30::pcmdi_metrics::Ex5:: TEST DATA IS: CSIRO-Mk3-6-0\n",
      "INFO::2021-01-22 13:30::pcmdi_metrics::Ex5:: CSIRO-Mk3-6-0 is a model\n",
      "INFO::2021-01-22 13:30::pcmdi_metrics::Ex5:: Saving interpolated climatologies to: /Users/ordonez4/Documents/git/pcmdi_metrics/doc/jupyter/Demo/TROPICS\n",
      "INFO::2021-01-22 13:30::pcmdi_metrics::Ex5:: Results saved to a nc file: /Users/ordonez4/Documents/git/pcmdi_metrics/doc/jupyter/Demo/TROPICS.nc\n",
      "INFO::2021-01-22 13:30::pcmdi_metrics::Ex5:: Saving results to: /Users/ordonez4/Documents/git/pcmdi_metrics/doc/jupyter/Demo/demo_output/Ex5/rlut_2.5x2.5_regrid2_linear_metrics\n",
      "INFO::2021-01-22 13:30::pcmdi_metrics::Ex5:: Results saved to a json file: /Users/ordonez4/Documents/git/pcmdi_metrics/doc/jupyter/Demo/demo_output/Ex5/rlut_2.5x2.5_regrid2_linear_metrics.json\n",
      "INFO::2021-01-22 13:30::pcmdi_metrics::Ex5:: default is an obs\n",
      "INFO::2021-01-22 13:30::pcmdi_metrics::Ex5:: Could not figure out obs mask name from obs json file\n",
      "INFO::2021-01-22 13:30::pcmdi_metrics::Ex5:: TEST DATA IS: ACCESS1-0\n",
      "INFO::2021-01-22 13:30::pcmdi_metrics::Ex5:: ACCESS1-0 is a model\n",
      "INFO::2021-01-22 13:30::pcmdi_metrics::Ex5:: Saving results to: /Users/ordonez4/Documents/git/pcmdi_metrics/doc/jupyter/Demo/demo_output/Ex5/rlut_2.5x2.5_regrid2_linear_metrics\n",
      "INFO::2021-01-22 13:30::pcmdi_metrics::Ex5:: Results saved to a json file: /Users/ordonez4/Documents/git/pcmdi_metrics/doc/jupyter/Demo/demo_output/Ex5/rlut_2.5x2.5_regrid2_linear_metrics.json\n",
      "INFO::2021-01-22 13:30::pcmdi_metrics::Ex5:: TEST DATA IS: CSIRO-Mk3-6-0\n",
      "INFO::2021-01-22 13:30::pcmdi_metrics::Ex5:: CSIRO-Mk3-6-0 is a model\n",
      "INFO::2021-01-22 13:30::pcmdi_metrics::Ex5:: Saving results to: /Users/ordonez4/Documents/git/pcmdi_metrics/doc/jupyter/Demo/demo_output/Ex5/rlut_2.5x2.5_regrid2_linear_metrics\n",
      "INFO::2021-01-22 13:30::pcmdi_metrics::Ex5:: Results saved to a json file: /Users/ordonez4/Documents/git/pcmdi_metrics/doc/jupyter/Demo/demo_output/Ex5/rlut_2.5x2.5_regrid2_linear_metrics.json\n"
     ]
    }
   ],
   "source": [
    "%%bash \n",
    "mean_climate_driver.py -p basic_param.py --case_id 'Ex5' --user_notes 'Example note' --save_test_clims True"
   ]
  },
  {
   "cell_type": "markdown",
   "metadata": {},
   "source": [
    "Some other flags to note:  \n",
    "`--ext` '.nc' or '.xml'. NetCDF files should be post-processed annual climatologies  \n",
    "`--filename_template` Based on the format of your model files.  \n",
    "    - When the file name varies based on model, experiment, or another parameter, use %(parameter) as a placeholder   \n",
    "    (for example, \"CMIP5.historical.%(model_version)...\" in this demo's parameter file)  \n",
    "`--help` or `-h` Help command for more information about all flags."
   ]
  }
 ],
 "metadata": {
  "kernelspec": {
   "display_name": "Python 3",
   "language": "python",
   "name": "python3"
  },
  "language_info": {
   "codemirror_mode": {
    "name": "ipython",
    "version": 3
   },
   "file_extension": ".py",
   "mimetype": "text/x-python",
   "name": "python",
   "nbconvert_exporter": "python",
   "pygments_lexer": "ipython3",
   "version": "3.8.6"
  },
  "selected_variables": [],
  "vcdat_file_path": "",
  "vcdat_loaded_variables": [],
  "vcdat_variable_info": {}
 },
 "nbformat": 4,
 "nbformat_minor": 4
}
